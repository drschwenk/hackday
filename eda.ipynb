{
 "cells": [
  {
   "cell_type": "code",
   "execution_count": 27,
   "metadata": {
    "collapsed": false
   },
   "outputs": [],
   "source": [
    "%%capture\n",
    "from __future__ import division\n",
    "import numpy as np\n",
    "import pandas as pd\n",
    "import scipy.stats as st\n",
    "import itertools\n",
    "import math\n",
    "from collections import Counter, defaultdict\n",
    "%load_ext autoreload\n",
    "%autoreload 2\n",
    "\n",
    "import json\n",
    "import glob"
   ]
  },
  {
   "cell_type": "code",
   "execution_count": 125,
   "metadata": {
    "collapsed": true
   },
   "outputs": [],
   "source": [
    "%%capture\n",
    "import matplotlib as mpl\n",
    "mpl.use(\"Agg\")\n",
    "import matplotlib.pylab as plt\n",
    "#%matplotlib notebook\n",
    "%matplotlib inline\n",
    "%load_ext base16_mplrc\n",
    "%base16_mplrc light default\n",
    "plt.rcParams['figure.figsize'] = (16.0, 10.0)"
   ]
  },
  {
   "cell_type": "code",
   "execution_count": 126,
   "metadata": {
    "collapsed": false
   },
   "outputs": [],
   "source": [
    "sample_data_dir = './corpus_1_pct_sample/'\n",
    "test_file = sample_data_dir + 'part-00000'"
   ]
  },
  {
   "cell_type": "code",
   "execution_count": 40,
   "metadata": {
    "collapsed": false
   },
   "outputs": [
    {
     "name": "stdout",
     "output_type": "stream",
     "text": [
      "yes\n"
     ]
    }
   ],
   "source": [
    "if sampled_corpus_raw_df.empty:\n",
    "    print('yes')"
   ]
  },
  {
   "cell_type": "code",
   "execution_count": 70,
   "metadata": {
    "collapsed": true
   },
   "outputs": [
    {
     "data": {
      "text/plain": [
       "['authors',\n",
       " 'bodyText',\n",
       " 'citationContexts',\n",
       " 'citedBy',\n",
       " 'citedByYearHistogram',\n",
       " 'classification',\n",
       " 'clusterInfo',\n",
       " 'dataSetNames',\n",
       " 'earliestAcquisitionDate',\n",
       " 'estimatedCitationAcceleration',\n",
       " 'estimatedCitationVelocity',\n",
       " 'followOn',\n",
       " 'id',\n",
       " 'indexInclusionReason',\n",
       " 'journal',\n",
       " 'keyCitedByYearHistogram',\n",
       " 'keyPhrases',\n",
       " 'numCitedBy',\n",
       " 'numCitedByEstimate',\n",
       " 'numCiting',\n",
       " 'numKeyCitations',\n",
       " 'numKeyReferences',\n",
       " 'paperAbstract',\n",
       " 'presentationIds',\n",
       " 'socialLinks',\n",
       " 'sourceInfo',\n",
       " 'title',\n",
       " 'venue',\n",
       " 'viewablePdfId',\n",
       " 'year']"
      ]
     },
     "execution_count": 70,
     "metadata": {},
     "output_type": "execute_result"
    }
   ],
   "source": [
    "sorted(list(first_test_df.columns))"
   ]
  },
  {
   "cell_type": "code",
   "execution_count": 110,
   "metadata": {
    "collapsed": true
   },
   "outputs": [],
   "source": [
    "corpus_sample_raw_df = pd.DataFrame()"
   ]
  },
  {
   "cell_type": "code",
   "execution_count": 120,
   "metadata": {
    "collapsed": false
   },
   "outputs": [],
   "source": [
    "for file in glob.glob(sample_data_dir + '*'):\n",
    "    running_idx = 0\n",
    "    with open(file, 'r') as f:\n",
    "        json_lines = f.readlines()\n",
    "        record_by_index = {running_idx + idx: json.loads(record) for idx, record in enumerate(json_lines)}\n",
    "        running_idx += len(json_lines)\n",
    "        if sampled_corpus_raw_df.empty:\n",
    "            corpus_sample_raw_df = pd.DataFrame.from_dict(record_by_index, orient='index')\n",
    "        else:\n",
    "            corpus_sample_raw_df = corpus_sample_raw_df.append(pd.DataFrame.from_dict(record_by_index, orient='index'))"
   ]
  },
  {
   "cell_type": "code",
   "execution_count": 121,
   "metadata": {
    "collapsed": false
   },
   "outputs": [
    {
     "data": {
      "text/plain": [
       "(50601, 30)"
      ]
     },
     "execution_count": 121,
     "metadata": {},
     "output_type": "execute_result"
    }
   ],
   "source": [
    "corpus_sample_raw_df.shape"
   ]
  },
  {
   "cell_type": "code",
   "execution_count": 117,
   "metadata": {
    "collapsed": true
   },
   "outputs": [
    {
     "data": {
      "text/html": [
       "<div>\n",
       "<table border=\"1\" class=\"dataframe\">\n",
       "  <thead>\n",
       "    <tr style=\"text-align: right;\">\n",
       "      <th></th>\n",
       "      <th>authors</th>\n",
       "      <th>bodyText</th>\n",
       "      <th>citationContexts</th>\n",
       "      <th>citedBy</th>\n",
       "      <th>citedByYearHistogram</th>\n",
       "      <th>classification</th>\n",
       "      <th>clusterInfo</th>\n",
       "      <th>dataSetNames</th>\n",
       "      <th>earliestAcquisitionDate</th>\n",
       "      <th>estimatedCitationAcceleration</th>\n",
       "      <th>...</th>\n",
       "      <th>numKeyCitations</th>\n",
       "      <th>numKeyReferences</th>\n",
       "      <th>paperAbstract</th>\n",
       "      <th>presentationIds</th>\n",
       "      <th>socialLinks</th>\n",
       "      <th>sourceInfo</th>\n",
       "      <th>title</th>\n",
       "      <th>venue</th>\n",
       "      <th>viewablePdfId</th>\n",
       "      <th>year</th>\n",
       "    </tr>\n",
       "  </thead>\n",
       "  <tbody>\n",
       "    <tr>\n",
       "      <th>487</th>\n",
       "      <td>[{'ids': [], 'name': 'F H Guenther'}]</td>\n",
       "      <td>1\\n\\nConvex region targets lead directly to ex...</td>\n",
       "      <td>[{'sectionName': 'Tongue body height', 'citeEn...</td>\n",
       "      <td>[52fa385e09fdc501775221505cb2b0a5bcf1a051, 18c...</td>\n",
       "      <td>[[1996, 1], [1997, 1], [1998, 1], [1999, 1], [...</td>\n",
       "      <td>{'survey': 0.0}</td>\n",
       "      <td>{'duplicateIds': ['b22a3a36ea7e238b57f442365ef...</td>\n",
       "      <td>[]</td>\n",
       "      <td>2014-10-01T00:00:00Z</td>\n",
       "      <td>{'estimate': {'value': 0.0, 'confidence': 1.0,...</td>\n",
       "      <td>...</td>\n",
       "      <td>2</td>\n",
       "      <td>19</td>\n",
       "      <td>This article describes a neural network model ...</td>\n",
       "      <td>[]</td>\n",
       "      <td>[]</td>\n",
       "      <td>{'pdfUris': ['http://www.cns.bu.edu/~guenther/...</td>\n",
       "      <td>Speech sound acquisition, coarticulation, and ...</td>\n",
       "      <td>Psychological review</td>\n",
       "      <td>94f16407d532cf719a54cefed26135c92d0fd007</td>\n",
       "      <td>1995.0</td>\n",
       "    </tr>\n",
       "    <tr>\n",
       "      <th>488</th>\n",
       "      <td>[{'ids': ['3258268'], 'name': 'Xiaoying Zhou'}...</td>\n",
       "      <td>Introduction\\n\\nGastric cancer is the fourth m...</td>\n",
       "      <td>[]</td>\n",
       "      <td>[9898703db313984cc9e36142ae7f053470ecd4c1, e17...</td>\n",
       "      <td>[[2015, 5], [2016, 1]]</td>\n",
       "      <td>{'survey': 0.0}</td>\n",
       "      <td>{'duplicateIds': ['120f76e0d73d08135495eeed779...</td>\n",
       "      <td>[]</td>\n",
       "      <td>NaN</td>\n",
       "      <td>{'estimate': {'value': 0.0, 'confidence': 1.0,...</td>\n",
       "      <td>...</td>\n",
       "      <td>0</td>\n",
       "      <td>0</td>\n",
       "      <td>Background: The molecular mechanism between He...</td>\n",
       "      <td>[]</td>\n",
       "      <td>[]</td>\n",
       "      <td>{'pdfUris': [], 'sourceIds': [{'id': '24984017...</td>\n",
       "      <td>Decreased miR-204 in H. pylori-Associated Gast...</td>\n",
       "      <td>PloS one</td>\n",
       "      <td>f1ac2ebb273c47f532bc684cf0045c7025541833</td>\n",
       "      <td>2014.0</td>\n",
       "    </tr>\n",
       "    <tr>\n",
       "      <th>489</th>\n",
       "      <td>[{'ids': ['2795873'], 'name': 'William A. Bogl...</td>\n",
       "      <td>Cyclically presented groups\\n\\nA celebrated th...</td>\n",
       "      <td>[{'sectionName': '−1', 'citeEnd': 102, 'citeSt...</td>\n",
       "      <td>[eceb67b3451e45cd0eed0df12de0acbcae206044]</td>\n",
       "      <td>[[2015, 1]]</td>\n",
       "      <td>{'survey': 0.0}</td>\n",
       "      <td>{'duplicateIds': []}</td>\n",
       "      <td>[]</td>\n",
       "      <td>2016-03-04T08:47:34.539Z</td>\n",
       "      <td>{'estimate': {'value': 0.0, 'confidence': 1.0,...</td>\n",
       "      <td>...</td>\n",
       "      <td>0</td>\n",
       "      <td>2</td>\n",
       "      <td></td>\n",
       "      <td>[]</td>\n",
       "      <td>[]</td>\n",
       "      <td>{'pdfUris': ['http://people.oregonstate.edu/~b...</td>\n",
       "      <td>On shift dynamics for cyclically presented groups</td>\n",
       "      <td></td>\n",
       "      <td>41008690f1e66a13714688396f6aa6d1095fb0bc</td>\n",
       "      <td>2014.0</td>\n",
       "    </tr>\n",
       "    <tr>\n",
       "      <th>490</th>\n",
       "      <td>[{'ids': ['2932748'], 'name': 'Fredrik Berggre...</td>\n",
       "      <td></td>\n",
       "      <td>[]</td>\n",
       "      <td>[63d9bd4e8a0f12530fda14e69d32dbcbe442718f]</td>\n",
       "      <td>[[2010, 1]]</td>\n",
       "      <td>{'survey': 0.0}</td>\n",
       "      <td>{'duplicateIds': []}</td>\n",
       "      <td>[]</td>\n",
       "      <td>NaN</td>\n",
       "      <td>{'estimate': {'value': 0.0, 'confidence': 1.0,...</td>\n",
       "      <td>...</td>\n",
       "      <td>1</td>\n",
       "      <td>0</td>\n",
       "      <td></td>\n",
       "      <td>[]</td>\n",
       "      <td>[]</td>\n",
       "      <td>{'pdfUris': ['http://dx.doi.org/10.1109/WCNC.2...</td>\n",
       "      <td>A Non-Hierarchical Cell Search Scheme</td>\n",
       "      <td>WCNC</td>\n",
       "      <td>NaN</td>\n",
       "      <td>2007.0</td>\n",
       "    </tr>\n",
       "    <tr>\n",
       "      <th>491</th>\n",
       "      <td>[{'ids': ['2869491'], 'name': 'Philipp Tiefenb...</td>\n",
       "      <td></td>\n",
       "      <td>[]</td>\n",
       "      <td>[b5432d923559ac46510399484e68c4289ea6e72b]</td>\n",
       "      <td>[[2014, 1]]</td>\n",
       "      <td>{'survey': 0.0}</td>\n",
       "      <td>{'duplicateIds': []}</td>\n",
       "      <td>[]</td>\n",
       "      <td>NaN</td>\n",
       "      <td>{'estimate': {'value': 0.0, 'confidence': 1.0,...</td>\n",
       "      <td>...</td>\n",
       "      <td>0</td>\n",
       "      <td>0</td>\n",
       "      <td></td>\n",
       "      <td>[]</td>\n",
       "      <td>[]</td>\n",
       "      <td>{'pdfUris': ['http://dx.doi.org/10.1007/978-3-...</td>\n",
       "      <td>Augmented Reality Evaluation: A Concept Utiliz...</td>\n",
       "      <td>HCI</td>\n",
       "      <td>NaN</td>\n",
       "      <td>2014.0</td>\n",
       "    </tr>\n",
       "  </tbody>\n",
       "</table>\n",
       "<p>5 rows × 30 columns</p>\n",
       "</div>"
      ],
      "text/plain": [
       "                                               authors  \\\n",
       "487              [{'ids': [], 'name': 'F H Guenther'}]   \n",
       "488  [{'ids': ['3258268'], 'name': 'Xiaoying Zhou'}...   \n",
       "489  [{'ids': ['2795873'], 'name': 'William A. Bogl...   \n",
       "490  [{'ids': ['2932748'], 'name': 'Fredrik Berggre...   \n",
       "491  [{'ids': ['2869491'], 'name': 'Philipp Tiefenb...   \n",
       "\n",
       "                                              bodyText  \\\n",
       "487  1\\n\\nConvex region targets lead directly to ex...   \n",
       "488  Introduction\\n\\nGastric cancer is the fourth m...   \n",
       "489  Cyclically presented groups\\n\\nA celebrated th...   \n",
       "490                                                      \n",
       "491                                                      \n",
       "\n",
       "                                      citationContexts  \\\n",
       "487  [{'sectionName': 'Tongue body height', 'citeEn...   \n",
       "488                                                 []   \n",
       "489  [{'sectionName': '−1', 'citeEnd': 102, 'citeSt...   \n",
       "490                                                 []   \n",
       "491                                                 []   \n",
       "\n",
       "                                               citedBy  \\\n",
       "487  [52fa385e09fdc501775221505cb2b0a5bcf1a051, 18c...   \n",
       "488  [9898703db313984cc9e36142ae7f053470ecd4c1, e17...   \n",
       "489         [eceb67b3451e45cd0eed0df12de0acbcae206044]   \n",
       "490         [63d9bd4e8a0f12530fda14e69d32dbcbe442718f]   \n",
       "491         [b5432d923559ac46510399484e68c4289ea6e72b]   \n",
       "\n",
       "                                  citedByYearHistogram   classification  \\\n",
       "487  [[1996, 1], [1997, 1], [1998, 1], [1999, 1], [...  {'survey': 0.0}   \n",
       "488                             [[2015, 5], [2016, 1]]  {'survey': 0.0}   \n",
       "489                                        [[2015, 1]]  {'survey': 0.0}   \n",
       "490                                        [[2010, 1]]  {'survey': 0.0}   \n",
       "491                                        [[2014, 1]]  {'survey': 0.0}   \n",
       "\n",
       "                                           clusterInfo dataSetNames  \\\n",
       "487  {'duplicateIds': ['b22a3a36ea7e238b57f442365ef...           []   \n",
       "488  {'duplicateIds': ['120f76e0d73d08135495eeed779...           []   \n",
       "489                               {'duplicateIds': []}           []   \n",
       "490                               {'duplicateIds': []}           []   \n",
       "491                               {'duplicateIds': []}           []   \n",
       "\n",
       "      earliestAcquisitionDate  \\\n",
       "487      2014-10-01T00:00:00Z   \n",
       "488                       NaN   \n",
       "489  2016-03-04T08:47:34.539Z   \n",
       "490                       NaN   \n",
       "491                       NaN   \n",
       "\n",
       "                         estimatedCitationAcceleration   ...    \\\n",
       "487  {'estimate': {'value': 0.0, 'confidence': 1.0,...   ...     \n",
       "488  {'estimate': {'value': 0.0, 'confidence': 1.0,...   ...     \n",
       "489  {'estimate': {'value': 0.0, 'confidence': 1.0,...   ...     \n",
       "490  {'estimate': {'value': 0.0, 'confidence': 1.0,...   ...     \n",
       "491  {'estimate': {'value': 0.0, 'confidence': 1.0,...   ...     \n",
       "\n",
       "    numKeyCitations numKeyReferences  \\\n",
       "487               2               19   \n",
       "488               0                0   \n",
       "489               0                2   \n",
       "490               1                0   \n",
       "491               0                0   \n",
       "\n",
       "                                         paperAbstract presentationIds  \\\n",
       "487  This article describes a neural network model ...              []   \n",
       "488  Background: The molecular mechanism between He...              []   \n",
       "489                                                                 []   \n",
       "490                                                                 []   \n",
       "491                                                                 []   \n",
       "\n",
       "    socialLinks                                         sourceInfo  \\\n",
       "487          []  {'pdfUris': ['http://www.cns.bu.edu/~guenther/...   \n",
       "488          []  {'pdfUris': [], 'sourceIds': [{'id': '24984017...   \n",
       "489          []  {'pdfUris': ['http://people.oregonstate.edu/~b...   \n",
       "490          []  {'pdfUris': ['http://dx.doi.org/10.1109/WCNC.2...   \n",
       "491          []  {'pdfUris': ['http://dx.doi.org/10.1007/978-3-...   \n",
       "\n",
       "                                                 title                 venue  \\\n",
       "487  Speech sound acquisition, coarticulation, and ...  Psychological review   \n",
       "488  Decreased miR-204 in H. pylori-Associated Gast...              PloS one   \n",
       "489  On shift dynamics for cyclically presented groups                         \n",
       "490              A Non-Hierarchical Cell Search Scheme                  WCNC   \n",
       "491  Augmented Reality Evaluation: A Concept Utiliz...                   HCI   \n",
       "\n",
       "                                viewablePdfId    year  \n",
       "487  94f16407d532cf719a54cefed26135c92d0fd007  1995.0  \n",
       "488  f1ac2ebb273c47f532bc684cf0045c7025541833  2014.0  \n",
       "489  41008690f1e66a13714688396f6aa6d1095fb0bc  2014.0  \n",
       "490                                       NaN  2007.0  \n",
       "491                                       NaN  2014.0  \n",
       "\n",
       "[5 rows x 30 columns]"
      ]
     },
     "execution_count": 117,
     "metadata": {},
     "output_type": "execute_result"
    }
   ],
   "source": [
    "corpus_sample_raw_df.tail()"
   ]
  },
  {
   "cell_type": "code",
   "execution_count": 134,
   "metadata": {
    "collapsed": false
   },
   "outputs": [
    {
     "data": {
      "text/plain": [
       "6259"
      ]
     },
     "execution_count": 134,
     "metadata": {},
     "output_type": "execute_result"
    }
   ],
   "source": [
    "len(pd.unique(corpus_sample_raw_df['venue']))"
   ]
  },
  {
   "cell_type": "code",
   "execution_count": 132,
   "metadata": {
    "collapsed": false,
    "scrolled": true
   },
   "outputs": [
    {
     "data": {
      "text/plain": [
       "                                                                                                                          5254\n",
       "PloS one                                                                                                                  1405\n",
       "ArXiv                                                                                                                      666\n",
       "ICASSP                                                                                                                     321\n",
       "Scientific reports                                                                                                         214\n",
       "ICC                                                                                                                        206\n",
       "ICIP                                                                                                                       203\n",
       "IEICET                                                                                                                     186\n",
       "ISCAS                                                                                                                      183\n",
       "ICRA                                                                                                                       182\n",
       "INTERSPEECH                                                                                                                180\n",
       "British journal of cancer                                                                                                  179\n",
       "GLOBECOM                                                                                                                   164\n",
       "AMC                                                                                                                        161\n",
       "IGARSS                                                                                                                     156\n",
       "The Journal of cell biology                                                                                                151\n",
       "Acta crystallographica. Section E, Structure reports online                                                                147\n",
       "HCI                                                                                                                        144\n",
       "IROS                                                                                                                       139\n",
       "CHI                                                                                                                        133\n",
       "The Journal of experimental medicine                                                                                       132\n",
       "Environmental health perspectives                                                                                          120\n",
       "TSP                                                                                                                        119\n",
       "VTC                                                                                                                        118\n",
       "Nucleic acids research                                                                                                     117\n",
       "HICSS                                                                                                                      117\n",
       "EOR                                                                                                                        113\n",
       "DM                                                                                                                         113\n",
       "TCOM                                                                                                                       110\n",
       "TIT                                                                                                                        110\n",
       "                                                                                                                          ... \n",
       "Cancer letters                                                                                                               1\n",
       "Journal of natural products                                                                                                  1\n",
       "IWMM                                                                                                                         1\n",
       "Inhalation toxicology                                                                                                        1\n",
       "Journal of critical care                                                                                                     1\n",
       "Haematologica                                                                                                                1\n",
       "Annual review of biophysics and biophysical chemistry                                                                        1\n",
       "American journal of physiology. Gastrointestinal and liver physiology                                                        1\n",
       "PERFORMANCE                                                                                                                  1\n",
       "IJHCITP                                                                                                                      1\n",
       "LDI issue brief                                                                                                              1\n",
       "LARC                                                                                                                         1\n",
       "UDMV                                                                                                                         1\n",
       "EVS                                                                                                                          1\n",
       "Nature clinical practice. Urology                                                                                            1\n",
       "IJGBL                                                                                                                        1\n",
       "STAST                                                                                                                        1\n",
       "CNS                                                                                                                          1\n",
       "CCSEIT                                                                                                                       1\n",
       "Allergy, asthma, and clinical immunology : official journal of the Canadian Society of Allergy and Clinical Immunology       1\n",
       "Asia Pacific family medicine                                                                                                 1\n",
       "EBISS                                                                                                                        1\n",
       "TICTTL                                                                                                                       1\n",
       "ACR                                                                                                                          1\n",
       "The California journal of emergency medicine / California Chapter of the American Academy of Emergency Medicine              1\n",
       "Biological Procedures Online                                                                                                 1\n",
       "STP                                                                                                                          1\n",
       "Zoological letters                                                                                                           1\n",
       "NCT                                                                                                                          1\n",
       "Journal of the American Geriatrics Society                                                                                   1\n",
       "Name: venue, dtype: int64"
      ]
     },
     "execution_count": 132,
     "metadata": {},
     "output_type": "execute_result"
    }
   ],
   "source": [
    "corpus_sample_raw_df['venue'].value_counts()"
   ]
  },
  {
   "cell_type": "code",
   "execution_count": 135,
   "metadata": {
    "collapsed": false
   },
   "outputs": [
    {
     "data": {
      "text/plain": [
       "(50601, 30)"
      ]
     },
     "execution_count": 135,
     "metadata": {},
     "output_type": "execute_result"
    }
   ],
   "source": [
    "corpus_sample_raw_df.shape"
   ]
  },
  {
   "cell_type": "code",
   "execution_count": null,
   "metadata": {
    "collapsed": true
   },
   "outputs": [],
   "source": []
  }
 ],
 "metadata": {
  "kernelspec": {
   "display_name": "Python 3",
   "language": "python",
   "name": "python3"
  },
  "language_info": {
   "codemirror_mode": {
    "name": "ipython",
    "version": 3
   },
   "file_extension": ".py",
   "mimetype": "text/x-python",
   "name": "python",
   "nbconvert_exporter": "python",
   "pygments_lexer": "ipython3",
   "version": "3.5.0"
  }
 },
 "nbformat": 4,
 "nbformat_minor": 0
}
