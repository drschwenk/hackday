{
 "cells": [
  {
   "cell_type": "markdown",
   "metadata": {},
   "source": [
    "# Table of Contents\n",
    "* [Loading data](#Loading-data)\n",
    "* [derived columns](#derived-columns)\n",
    "\t* [creating target_labels](#creating-target_labels)\n",
    "* [Venue/Journal info](#Venue/Journal-info)\n",
    "* [missing values](#missing-values)\n",
    "\t* [dropping meaningless columns](#dropping-meaningless-columns)\n",
    "* [Exploring features](#Exploring-features)\n"
   ]
  },
  {
   "cell_type": "code",
   "execution_count": 534,
   "metadata": {
    "collapsed": false,
    "run_control": {
     "frozen": false,
     "read_only": false
    }
   },
   "outputs": [],
   "source": [
    "%%capture\n",
    "from __future__ import division\n",
    "import numpy as np\n",
    "import pandas as pd\n",
    "import scipy.stats as st\n",
    "import itertools\n",
    "import math\n",
    "from collections import Counter, defaultdict\n",
    "%load_ext autoreload\n",
    "%autoreload 2\n",
    "\n",
    "import json\n",
    "import glob\n",
    "import operator"
   ]
  },
  {
   "cell_type": "code",
   "execution_count": 196,
   "metadata": {
    "collapsed": true,
    "run_control": {
     "frozen": false,
     "read_only": false
    }
   },
   "outputs": [],
   "source": [
    "%%capture\n",
    "import matplotlib as mpl\n",
    "mpl.use(\"Agg\")\n",
    "import matplotlib.pylab as plt\n",
    "#%matplotlib notebook\n",
    "%matplotlib inline\n",
    "%load_ext base16_mplrc\n",
    "%base16_mplrc light default\n",
    "plt.rcParams['figure.figsize'] = (16.0, 10.0)\n",
    "import seaborn as sns\n",
    "sns.set()"
   ]
  },
  {
   "cell_type": "code",
   "execution_count": 257,
   "metadata": {
    "collapsed": true
   },
   "outputs": [],
   "source": [
    "import nltk\n",
    "import string\n",
    "from nltk.corpus import stopwords\n",
    "from sklearn.feature_extraction.text import TfidfVectorizer\n",
    "from nltk.tokenize import word_tokenize\n",
    "from nltk.stem.porter import PorterStemmer\n",
    "from nltk.stem.snowball import SnowballStemmer\n",
    "from nltk.stem.wordnet import WordNetLemmatizer"
   ]
  },
  {
   "cell_type": "code",
   "execution_count": 481,
   "metadata": {
    "collapsed": true
   },
   "outputs": [],
   "source": [
    "from sklearn.grid_search import GridSearchCV\n",
    "from sklearn.linear_model import LogisticRegression\n",
    "from sklearn.ensemble import AdaBoostClassifier, GradientBoostingClassifier,RandomForestClassifier\n",
    "from sklearn.svm import SVC\n",
    "from sklearn.neighbors import KNeighborsClassifier\n",
    "from sklearn.cross_validation import train_test_split, cross_val_score\n",
    "from sklearn.feature_selection import SelectKBest, VarianceThreshold \n",
    "from sklearn.cross_validation import ShuffleSplit\n",
    "from sklearn.preprocessing import StandardScaler\n",
    "import sklearn.metrics as skmet\n",
    "from sklearn.pipeline import Pipeline"
   ]
  },
  {
   "cell_type": "code",
   "execution_count": 535,
   "metadata": {
    "collapsed": true
   },
   "outputs": [],
   "source": [
    "from sklearn.naive_bayes import MultinomialNB\n",
    "from sklearn.naive_bayes import GaussianNB\n",
    "\n",
    "from sklearn.base import BaseEstimator\n",
    "from sklearn.base import ClassifierMixin"
   ]
  },
  {
   "cell_type": "markdown",
   "metadata": {
    "heading_collapsed": true
   },
   "source": [
    "# Loading data"
   ]
  },
  {
   "cell_type": "code",
   "execution_count": 302,
   "metadata": {
    "collapsed": false,
    "hidden": true,
    "run_control": {
     "frozen": false,
     "read_only": false
    }
   },
   "outputs": [],
   "source": [
    "sample_data_dir = './data/corpus_1_pct_sample/'\n",
    "labeled_only_data_dir = './data/corpus_labeled_only_sample/'\n",
    "test_file = labeled_only_data_dir + 'part-00000'"
   ]
  },
  {
   "cell_type": "code",
   "execution_count": 303,
   "metadata": {
    "collapsed": true,
    "hidden": true,
    "run_control": {
     "frozen": false,
     "read_only": false
    }
   },
   "outputs": [],
   "source": [
    "corpus_sample_raw_df = pd.DataFrame()"
   ]
  },
  {
   "cell_type": "code",
   "execution_count": 304,
   "metadata": {
    "collapsed": false,
    "hidden": true,
    "run_control": {
     "frozen": false,
     "read_only": false
    }
   },
   "outputs": [],
   "source": [
    "for file in glob.glob(labeled_only_data_dir + '*'):\n",
    "    running_idx = 0\n",
    "    with open(file, 'r') as f:\n",
    "        json_lines = f.readlines()\n",
    "        record_by_index = {running_idx + idx: json.loads(record) for idx, record in enumerate(json_lines)}\n",
    "        running_idx += len(json_lines)\n",
    "        if corpus_sample_raw_df.empty:\n",
    "            corpus_sample_raw_df = pd.DataFrame.from_dict(record_by_index, orient='index')\n",
    "        else:\n",
    "            corpus_sample_raw_df = corpus_sample_raw_df.append(pd.DataFrame.from_dict(record_by_index, orient='index'))"
   ]
  },
  {
   "cell_type": "code",
   "execution_count": 422,
   "metadata": {
    "collapsed": false,
    "hidden": true
   },
   "outputs": [],
   "source": [
    "corpus_sample_raw_df = corpus_sample_raw_df.reset_index()"
   ]
  },
  {
   "cell_type": "code",
   "execution_count": 423,
   "metadata": {
    "collapsed": false,
    "hidden": true,
    "run_control": {
     "frozen": false,
     "read_only": false
    }
   },
   "outputs": [
    {
     "data": {
      "text/plain": [
       "(43102, 33)"
      ]
     },
     "execution_count": 423,
     "metadata": {},
     "output_type": "execute_result"
    }
   ],
   "source": [
    "corpus_sample_raw_df.shape"
   ]
  },
  {
   "cell_type": "code",
   "execution_count": 286,
   "metadata": {
    "collapsed": true,
    "hidden": true,
    "run_control": {
     "frozen": false,
     "read_only": false
    }
   },
   "outputs": [],
   "source": [
    "# sorted(list(corpus_sample_raw_df.columns))"
   ]
  },
  {
   "cell_type": "markdown",
   "metadata": {
    "heading_collapsed": true
   },
   "source": [
    "# derived columns"
   ]
  },
  {
   "cell_type": "code",
   "execution_count": 306,
   "metadata": {
    "collapsed": true,
    "hidden": true
   },
   "outputs": [],
   "source": [
    "corpus_sample_raw_df['author_len'] = corpus_sample_raw_df['authors'].apply(lambda x: len(x))"
   ]
  },
  {
   "cell_type": "code",
   "execution_count": 307,
   "metadata": {
    "collapsed": false,
    "hidden": true
   },
   "outputs": [],
   "source": [
    "def assign_fos(venue):\n",
    "    NS_venues = ['The Journal of neuroscience : the official journal of the Society for Neuroscience', 'NEUROIMAGE', 'Frontiers in Neuroscience']\n",
    "    CS_venues = ['HICSS', 'CVPR', 'SIGGRAPH']\n",
    "    if venue in NS_venues:\n",
    "        return 'NS'\n",
    "    elif venue in CS_venues:\n",
    "        return 'CS'\n",
    "    else:\n",
    "        return np.NaN"
   ]
  },
  {
   "cell_type": "code",
   "execution_count": 424,
   "metadata": {
    "collapsed": false,
    "hidden": true
   },
   "outputs": [],
   "source": [
    "corpus_sample_raw_df['FOS'] = corpus_sample_raw_df['venue'].apply(assign_fos)"
   ]
  },
  {
   "cell_type": "code",
   "execution_count": 425,
   "metadata": {
    "collapsed": false,
    "hidden": true
   },
   "outputs": [
    {
     "data": {
      "text/plain": [
       "CS    28139\n",
       "NS    14963\n",
       "Name: FOS, dtype: int64"
      ]
     },
     "execution_count": 425,
     "metadata": {},
     "output_type": "execute_result"
    }
   ],
   "source": [
    "corpus_sample_raw_df['FOS'].value_counts()"
   ]
  },
  {
   "cell_type": "markdown",
   "metadata": {
    "heading_collapsed": true
   },
   "source": [
    "# Venue/Journal info"
   ]
  },
  {
   "cell_type": "code",
   "execution_count": 134,
   "metadata": {
    "collapsed": false,
    "hidden": true,
    "run_control": {
     "frozen": false,
     "read_only": false
    }
   },
   "outputs": [
    {
     "data": {
      "text/plain": [
       "6259"
      ]
     },
     "execution_count": 134,
     "metadata": {},
     "output_type": "execute_result"
    }
   ],
   "source": [
    "len(pd.unique(corpus_sample_raw_df['venue']))"
   ]
  },
  {
   "cell_type": "code",
   "execution_count": 142,
   "metadata": {
    "collapsed": false,
    "hidden": true,
    "run_control": {
     "frozen": false,
     "read_only": false
    },
    "scrolled": true
   },
   "outputs": [
    {
     "data": {
      "text/plain": [
       "                             5156\n",
       "PloS one                     1387\n",
       "ArXiv                         647\n",
       "ICASSP                        318\n",
       "Scientific reports            207\n",
       "ICIP                          202\n",
       "ICC                           202\n",
       "IEICET                        183\n",
       "ISCAS                         181\n",
       "INTERSPEECH                   178\n",
       "ICRA                          178\n",
       "British journal of cancer     173\n",
       "GLOBECOM                      163\n",
       "AMC                           159\n",
       "IGARSS                        152\n",
       "Name: venue, dtype: int64"
      ]
     },
     "execution_count": 142,
     "metadata": {},
     "output_type": "execute_result"
    }
   ],
   "source": [
    "corpus_sample_raw_df['venue'].value_counts()[:15]"
   ]
  },
  {
   "cell_type": "code",
   "execution_count": 53,
   "metadata": {
    "collapsed": false,
    "hidden": true
   },
   "outputs": [],
   "source": [
    "vj_df = corpus_sample_raw_df[['venue', 'journal']].dropna()"
   ]
  },
  {
   "cell_type": "code",
   "execution_count": 59,
   "metadata": {
    "collapsed": false,
    "hidden": true
   },
   "outputs": [],
   "source": [
    "vj_df_hasname = vj_df[vj_df['journal'].apply(lambda x: 'name'  in x.keys())]"
   ]
  },
  {
   "cell_type": "code",
   "execution_count": 66,
   "metadata": {
    "collapsed": false,
    "hidden": true
   },
   "outputs": [],
   "source": [
    "%%capture\n",
    "vj_df_hasname['journal_name'] = vj_df_hasname['journal'].apply(lambda x: x['name'])"
   ]
  },
  {
   "cell_type": "code",
   "execution_count": 81,
   "metadata": {
    "collapsed": false,
    "hidden": true
   },
   "outputs": [],
   "source": [
    "vj_df_name_nn = vj_df_hasname[vj_df_hasname['journal_name'] != ''][vj_df_hasname['venue'] != ''][['venue', 'journal_name']]"
   ]
  },
  {
   "cell_type": "code",
   "execution_count": 109,
   "metadata": {
    "collapsed": false,
    "hidden": true
   },
   "outputs": [],
   "source": [
    "venue_lookup = defaultdict(list)\n",
    "for venue, journal_df in vj_df_name_nn.groupby('venue'):\n",
    "    venue_lookup[venue].append(pd.unique(journal_df['journal_name']).tolist())"
   ]
  },
  {
   "cell_type": "code",
   "execution_count": 105,
   "metadata": {
    "collapsed": false,
    "hidden": true
   },
   "outputs": [],
   "source": [
    "pd.Series(venue_lookup).to_csv('journal_lookup.csv')"
   ]
  },
  {
   "cell_type": "markdown",
   "metadata": {
    "heading_collapsed": true
   },
   "source": [
    "# missing values"
   ]
  },
  {
   "cell_type": "code",
   "execution_count": 106,
   "metadata": {
    "collapsed": true,
    "hidden": true
   },
   "outputs": [
    {
     "data": {
      "text/plain": [
       "authors                          0.000000\n",
       "bodyText                         0.000000\n",
       "citationContexts                 0.000000\n",
       "citedBy                          0.000000\n",
       "citedByYearHistogram             0.000000\n",
       "classification                   0.000000\n",
       "clusterInfo                      0.000000\n",
       "dataSetNames                     0.000000\n",
       "earliestAcquisitionDate          0.475928\n",
       "estimatedCitationAcceleration    0.000000\n",
       "estimatedCitationVelocity        0.000000\n",
       "followOn                         0.000000\n",
       "id                               0.000000\n",
       "indexInclusionReason             0.000000\n",
       "journal                          0.106527\n",
       "keyCitedByYearHistogram          0.000000\n",
       "keyPhrases                       0.000000\n",
       "numCitedBy                       0.000000\n",
       "numCitedByEstimate               0.000000\n",
       "numCiting                        0.000000\n",
       "numKeyCitations                  0.000000\n",
       "numKeyReferences                 0.000000\n",
       "paperAbstract                    0.000000\n",
       "presentationIds                  0.000000\n",
       "socialLinks                      0.000000\n",
       "sourceInfo                       0.000000\n",
       "title                            0.000000\n",
       "venue                            0.000000\n",
       "viewablePdfId                    0.408194\n",
       "year                             0.004051\n",
       "dtype: float64"
      ]
     },
     "execution_count": 106,
     "metadata": {},
     "output_type": "execute_result"
    }
   ],
   "source": [
    "corpus_sample_raw_df.isnull().sum()/corpus_sample_raw_df.shape[0]"
   ]
  },
  {
   "cell_type": "markdown",
   "metadata": {
    "hidden": true
   },
   "source": [
    "dropping bad columns"
   ]
  },
  {
   "cell_type": "code",
   "execution_count": 427,
   "metadata": {
    "collapsed": false,
    "hidden": true
   },
   "outputs": [],
   "source": [
    "all_cols = list(corpus_sample_raw_df.columns)\n",
    "keep_cols = ['bodyText', 'paperAbstract', 'title']\n",
    "synth_cols = ['author_len', 'FOS']\n",
    "\n",
    "corpus_sample_proc_df = corpus_sample_raw_df.copy()\n",
    "for col in all_cols:\n",
    "    if col not in keep_cols + synth_cols:    \n",
    "        corpus_sample_proc_df.drop(col, 1, inplace=True)"
   ]
  },
  {
   "cell_type": "code",
   "execution_count": 429,
   "metadata": {
    "collapsed": false,
    "hidden": true
   },
   "outputs": [
    {
     "data": {
      "text/plain": [
       "(43102, 5)"
      ]
     },
     "execution_count": 429,
     "metadata": {},
     "output_type": "execute_result"
    }
   ],
   "source": [
    "corpus_sample_labeled_df = corpus_sample_proc_df.dropna()\n",
    "corpus_sample_labeled_df.shape"
   ]
  },
  {
   "cell_type": "code",
   "execution_count": 493,
   "metadata": {
    "collapsed": false,
    "hidden": true,
    "scrolled": true
   },
   "outputs": [
    {
     "data": {
      "text/html": [
       "<div>\n",
       "<table border=\"1\" class=\"dataframe\">\n",
       "  <thead>\n",
       "    <tr style=\"text-align: right;\">\n",
       "      <th></th>\n",
       "      <th>bodyText</th>\n",
       "      <th>paperAbstract</th>\n",
       "      <th>title</th>\n",
       "      <th>author_len</th>\n",
       "      <th>FOS</th>\n",
       "      <th>target</th>\n",
       "      <th>title_len</th>\n",
       "      <th>abs_len</th>\n",
       "      <th>body_len</th>\n",
       "    </tr>\n",
       "  </thead>\n",
       "  <tbody>\n",
       "    <tr>\n",
       "      <th>0</th>\n",
       "      <td>Introduction\\n\\nIn most healthy right handers,...</td>\n",
       "      <td>Laterality is a characteristic principle of th...</td>\n",
       "      <td>Reduced laterality as a trait marker of schizo...</td>\n",
       "      <td>10</td>\n",
       "      <td>NS</td>\n",
       "      <td>False</td>\n",
       "      <td>4.682131</td>\n",
       "      <td>7.077498</td>\n",
       "      <td>10.750107</td>\n",
       "    </tr>\n",
       "    <tr>\n",
       "      <th>1</th>\n",
       "      <td>Introduction\\n\\nConsider the following situati...</td>\n",
       "      <td>In this paper we study the following problem: ...</td>\n",
       "      <td>Consistent image analogies using semi-supervis...</td>\n",
       "      <td>3</td>\n",
       "      <td>CS</td>\n",
       "      <td>True</td>\n",
       "      <td>4.043051</td>\n",
       "      <td>6.594413</td>\n",
       "      <td>10.118760</td>\n",
       "    </tr>\n",
       "  </tbody>\n",
       "</table>\n",
       "</div>"
      ],
      "text/plain": [
       "                                            bodyText  \\\n",
       "0  Introduction\\n\\nIn most healthy right handers,...   \n",
       "1  Introduction\\n\\nConsider the following situati...   \n",
       "\n",
       "                                       paperAbstract  \\\n",
       "0  Laterality is a characteristic principle of th...   \n",
       "1  In this paper we study the following problem: ...   \n",
       "\n",
       "                                               title  author_len FOS target  \\\n",
       "0  Reduced laterality as a trait marker of schizo...          10  NS  False   \n",
       "1  Consistent image analogies using semi-supervis...           3  CS   True   \n",
       "\n",
       "   title_len   abs_len   body_len  \n",
       "0   4.682131  7.077498  10.750107  \n",
       "1   4.043051  6.594413  10.118760  "
      ]
     },
     "execution_count": 493,
     "metadata": {},
     "output_type": "execute_result"
    }
   ],
   "source": [
    "labeled_df.head(2)"
   ]
  },
  {
   "cell_type": "markdown",
   "metadata": {
    "heading_collapsed": true
   },
   "source": [
    "# Exploring features"
   ]
  },
  {
   "cell_type": "code",
   "execution_count": 497,
   "metadata": {
    "collapsed": false,
    "hidden": true
   },
   "outputs": [],
   "source": [
    "labeled_df = corpus_sample_labeled_df.replace('', '0')\n",
    "labeled_df['target'] = labeled_df['FOS'] == 'CS'"
   ]
  },
  {
   "cell_type": "code",
   "execution_count": 498,
   "metadata": {
    "collapsed": false,
    "hidden": true
   },
   "outputs": [],
   "source": [
    "labeled_df['title_len'] = labeled_df['title'].apply(lambda x: np.log(len(x)))\n",
    "labeled_df['abs_len'] = labeled_df['paperAbstract'].apply(lambda x: np.log(len(x)))\n",
    "labeled_df['body_len'] = labeled_df['bodyText'].apply(lambda x: np.log(len(x)))\n",
    "labeled_df['all_text'] = labeled_df['title'].str.cat(labeled_df['paperAbstract'], ' ').str.cat(labeled_df['bodyText'], ' ')\n",
    "labeled_df['abstract_title'] = labeled_df['title'].str.cat(labeled_df['paperAbstract'], ' ')\n",
    "\n",
    "# for col in keep_cols:\n",
    "#     labeled_df.drop(col, 1, inplace=True)\n",
    "# labeled_df_num_only = labeled_df.copy()\n",
    "# labeled_df_num_only_wot = labeled_df_num_only.drop(['target', 'all_text', 'FOS'], 1)"
   ]
  },
  {
   "cell_type": "code",
   "execution_count": 336,
   "metadata": {
    "collapsed": false,
    "hidden": true
   },
   "outputs": [],
   "source": [
    "# _ = labeled_df['author_len'].hist(log = False, bins = 30)"
   ]
  },
  {
   "cell_type": "code",
   "execution_count": 339,
   "metadata": {
    "collapsed": false,
    "hidden": true,
    "scrolled": false
   },
   "outputs": [
    {
     "data": {
      "image/png": "[encoded data removed]",
      "text/plain": [
       "<matplotlib.figure.Figure at 0x1c9de4c18>"
      ]
     },
     "metadata": {},
     "output_type": "display_data"
    }
   ],
   "source": [
    "colors = [\"windows blue\", \"amber\"]\n",
    "my_pal = sns.xkcd_palette(colors)\n",
    "_ = sns.pairplot(labeled_df_num_only, hue = 'target', palette = my_pal)"
   ]
  },
  {
   "cell_type": "markdown",
   "metadata": {},
   "source": [
    "# Baseline Model"
   ]
  },
  {
   "cell_type": "code",
   "execution_count": 434,
   "metadata": {
    "collapsed": true
   },
   "outputs": [],
   "source": [
    "stop_words = (stopwords.words() + list(string.punctuation) + [\"''\", \"``\", \"--\"])\n",
    "\n",
    "def clean_text(s, stop_words, stemmer):\n",
    "    tokens = word_tokenize(s.replace('\\n', ''), language='english')\n",
    "    stop_removed = [word for word in tokens if word not in stop_words]\n",
    "    stem = stemmer(language='english')\n",
    "    stemmed_words = \" \".join([stem.stem(word) for word in stop_removed])\n",
    "    return stemmed_words\n",
    "\n",
    "def clean_text(s, stop_words):\n",
    "    tokens = word_tokenize(s.replace('\\n', ''), language='english')\n",
    "    stop_removed = [word for word in tokens if word not in stop_words]\n",
    "    return stemmed_words"
   ]
  },
  {
   "cell_type": "code",
   "execution_count": 249,
   "metadata": {
    "collapsed": false
   },
   "outputs": [
    {
     "data": {
      "text/html": [
       "<div>\n",
       "<table border=\"1\" class=\"dataframe\">\n",
       "  <thead>\n",
       "    <tr style=\"text-align: right;\">\n",
       "      <th></th>\n",
       "      <th>FOS</th>\n",
       "      <th>author_len</th>\n",
       "      <th>target</th>\n",
       "      <th>title_len</th>\n",
       "      <th>abs_len</th>\n",
       "      <th>body_len</th>\n",
       "      <th>all_text</th>\n",
       "    </tr>\n",
       "  </thead>\n",
       "  <tbody>\n",
       "    <tr>\n",
       "      <th>138</th>\n",
       "      <td>NS</td>\n",
       "      <td>5</td>\n",
       "      <td>False</td>\n",
       "      <td>4.510860</td>\n",
       "      <td>7.281386</td>\n",
       "      <td>0.000000</td>\n",
       "      <td>Nutritional influences on early white matter d...</td>\n",
       "    </tr>\n",
       "    <tr>\n",
       "      <th>198</th>\n",
       "      <td>NS</td>\n",
       "      <td>7</td>\n",
       "      <td>False</td>\n",
       "      <td>4.110874</td>\n",
       "      <td>7.017506</td>\n",
       "      <td>10.885828</td>\n",
       "      <td>Quantifying inter-subject agreement in brain-i...</td>\n",
       "    </tr>\n",
       "  </tbody>\n",
       "</table>\n",
       "</div>"
      ],
      "text/plain": [
       "    FOS  author_len target  title_len   abs_len   body_len  \\\n",
       "138  NS           5  False   4.510860  7.281386   0.000000   \n",
       "198  NS           7  False   4.110874  7.017506  10.885828   \n",
       "\n",
       "                                              all_text  \n",
       "138  Nutritional influences on early white matter d...  \n",
       "198  Quantifying inter-subject agreement in brain-i...  "
      ]
     },
     "execution_count": 249,
     "metadata": {},
     "output_type": "execute_result"
    }
   ],
   "source": [
    "labeled_df.head(2)"
   ]
  },
  {
   "cell_type": "code",
   "execution_count": 435,
   "metadata": {
    "collapsed": false
   },
   "outputs": [],
   "source": [
    "train_df = labeled_df['all_text']\n",
    "labels = labeled_df['target']\n",
    "# cleaned_train = train_df.apply(lambda x : clean_text(x, stop_words, SnowballStemmer))\n",
    "cleaned_train = train_df"
   ]
  },
  {
   "cell_type": "code",
   "execution_count": 436,
   "metadata": {
    "collapsed": false
   },
   "outputs": [
    {
     "name": "stdout",
     "output_type": "stream",
     "text": [
      "0.971231923285\n"
     ]
    }
   ],
   "source": [
    "mnbc = MultinomialNB()\n",
    "X_train, X_test, y_train, y_test =train_test_split(cleaned_train, labels, test_size = 0.30)\n",
    "tfidf = TfidfVectorizer(stop_words='english')\n",
    "tfidf.fit(X_train)\n",
    "tfs = tfidf.transform(X_train)\n",
    "mnbc.fit(tfs, y_train)\n",
    "test_tfs  = tfidf.transform(X_test)\n",
    "print(skmet.accuracy_score(mnbc.predict(test_tfs), y_test))"
   ]
  },
  {
   "cell_type": "code",
   "execution_count": 476,
   "metadata": {
    "collapsed": false
   },
   "outputs": [],
   "source": [
    "X_train_num = labeled_df_num_only_wot.iloc[X_train.index]\n",
    "X_test_num = labeled_df_num_only_wot.iloc[X_test.index]\n",
    "scaler = StandardScaler()\n",
    "X_train_num_s = scaler.fit_transform(X_train_num)\n",
    "X_test_num_s = scaler.fit_transform(X_test_num)\n",
    "\n",
    "rfc_num = RandomForestClassifier()\n",
    "rfc_num.fit(X_train_num_s, y_train)\n",
    "print(skmet.accuracy_score(rfc_num.predict(X_test_num_s), y_test))"
   ]
  },
  {
   "cell_type": "code",
   "execution_count": 439,
   "metadata": {
    "collapsed": false
   },
   "outputs": [
    {
     "name": "stdout",
     "output_type": "stream",
     "text": [
      "0.988013301369\n"
     ]
    }
   ],
   "source": [
    "rfc = RandomForestClassifier()\n",
    "# X_train, X_test, y_train, y_test =train_test_split(cleaned_train, labels, test_size = 0.30)\n",
    "# tfidf = TfidfVectorizer(stop_words='english')\n",
    "# tfidf.fit(X_train)\n",
    "# tfs = tfidf.transform(X_train)\n",
    "rfc.fit(tfs, y_train)\n",
    "test_tfs  = tfidf.transform(X_test)\n",
    "print(skmet.accuracy_score(rfc.predict(test_tfs), y_test))"
   ]
  },
  {
   "cell_type": "code",
   "execution_count": 451,
   "metadata": {
    "collapsed": false
   },
   "outputs": [
    {
     "data": {
      "text/plain": [
       "372"
      ]
     },
     "execution_count": 451,
     "metadata": {},
     "output_type": "execute_result"
    }
   ],
   "source": [
    "predicted_cats = mnbc.predict(test_tfs)\n",
    "agreement_series = (predicted_cats == y_test)\n",
    "X_wrong_prediction = X_test[agreement_series == False]\n",
    "text_wp_set = set(X_wrong_prediction.index)\n",
    "len(text_wp_set)"
   ]
  },
  {
   "cell_type": "code",
   "execution_count": 441,
   "metadata": {
    "collapsed": false
   },
   "outputs": [],
   "source": [
    "predicted_cats = rfc_num.predict(X_test_num)\n",
    "agreement_series = (predicted_cats == y_test)\n",
    "X_wrong_prediction_num = X_test[agreement_series == False]"
   ]
  },
  {
   "cell_type": "code",
   "execution_count": 484,
   "metadata": {
    "collapsed": false
   },
   "outputs": [],
   "source": [
    "pipeline = Pipeline([\n",
    "    ('vect', TfidfVectorizer()),\n",
    "    ('clf', MultinomialNB()),\n",
    "])"
   ]
  },
  {
   "cell_type": "code",
   "execution_count": 625,
   "metadata": {
    "collapsed": false
   },
   "outputs": [
    {
     "ename": "AttributeError",
     "evalue": "'Series' object has no attribute 'type'",
     "output_type": "error",
     "traceback": [
      "\u001b[0;31m---------------------------------------------------------------------------\u001b[0m",
      "\u001b[0;31mAttributeError\u001b[0m                            Traceback (most recent call last)",
      "\u001b[0;32m<ipython-input-625-d709af43b054>\u001b[0m in \u001b[0;36m<module>\u001b[0;34m()\u001b[0m\n\u001b[0;32m----> 1\u001b[0;31m \u001b[0mcleaned_train\u001b[0m\u001b[0;34m.\u001b[0m\u001b[0mtype\u001b[0m\u001b[0;34m(\u001b[0m\u001b[0;34m)\u001b[0m\u001b[0;34m\u001b[0m\u001b[0m\n\u001b[0m",
      "\u001b[0;32m/usr/local/lib/python3.5/site-packages/pandas/core/generic.py\u001b[0m in \u001b[0;36m__getattr__\u001b[0;34m(self, name)\u001b[0m\n\u001b[1;32m   2670\u001b[0m             \u001b[0;32mif\u001b[0m \u001b[0mname\u001b[0m \u001b[0;32min\u001b[0m \u001b[0mself\u001b[0m\u001b[0;34m.\u001b[0m\u001b[0m_info_axis\u001b[0m\u001b[0;34m:\u001b[0m\u001b[0;34m\u001b[0m\u001b[0m\n\u001b[1;32m   2671\u001b[0m                 \u001b[0;32mreturn\u001b[0m \u001b[0mself\u001b[0m\u001b[0;34m[\u001b[0m\u001b[0mname\u001b[0m\u001b[0;34m]\u001b[0m\u001b[0;34m\u001b[0m\u001b[0m\n\u001b[0;32m-> 2672\u001b[0;31m             \u001b[0;32mreturn\u001b[0m \u001b[0mobject\u001b[0m\u001b[0;34m.\u001b[0m\u001b[0m__getattribute__\u001b[0m\u001b[0;34m(\u001b[0m\u001b[0mself\u001b[0m\u001b[0;34m,\u001b[0m \u001b[0mname\u001b[0m\u001b[0;34m)\u001b[0m\u001b[0;34m\u001b[0m\u001b[0m\n\u001b[0m\u001b[1;32m   2673\u001b[0m \u001b[0;34m\u001b[0m\u001b[0m\n\u001b[1;32m   2674\u001b[0m     \u001b[0;32mdef\u001b[0m \u001b[0m__setattr__\u001b[0m\u001b[0;34m(\u001b[0m\u001b[0mself\u001b[0m\u001b[0;34m,\u001b[0m \u001b[0mname\u001b[0m\u001b[0;34m,\u001b[0m \u001b[0mvalue\u001b[0m\u001b[0;34m)\u001b[0m\u001b[0;34m:\u001b[0m\u001b[0;34m\u001b[0m\u001b[0m\n",
      "\u001b[0;31mAttributeError\u001b[0m: 'Series' object has no attribute 'type'"
     ]
    }
   ],
   "source": []
  },
  {
   "cell_type": "code",
   "execution_count": 488,
   "metadata": {
    "collapsed": false
   },
   "outputs": [
    {
     "data": {
      "text/plain": [
       "array([ 0.96696975,  0.96771201,  0.96251624,  0.96343048,  0.9612029 ,\n",
       "        0.96770002,  0.96658623,  0.96250232])"
      ]
     },
     "execution_count": 488,
     "metadata": {},
     "output_type": "execute_result"
    }
   ],
   "source": [
    "cross_val_score(pipeline, cleaned_train, labels, cv=8, n_jobs=7)"
   ]
  },
  {
   "cell_type": "code",
   "execution_count": 489,
   "metadata": {
    "collapsed": false
   },
   "outputs": [
    {
     "data": {
      "text/plain": [
       "array([ 0.96422606,  0.96199889,  0.96241125])"
      ]
     },
     "execution_count": 489,
     "metadata": {},
     "output_type": "execute_result"
    }
   ],
   "source": [
    "cross_val_score(pipeline, cleaned_train, labels, cv=8, n_jobs=7)"
   ]
  },
  {
   "cell_type": "markdown",
   "metadata": {},
   "source": [
    "## title, abstract ablation"
   ]
  },
  {
   "cell_type": "code",
   "execution_count": 510,
   "metadata": {
    "collapsed": true
   },
   "outputs": [],
   "source": [
    "train_df_title = labeled_df['title']\n",
    "train_df_abs = labeled_df['paperAbstract']\n",
    "train_df_title_plus_abs = labeled_df['abstract_title']\n",
    "train_df_body = labeled_df['bodyText']\n",
    "\n",
    "labels = labeled_df['target']"
   ]
  },
  {
   "cell_type": "code",
   "execution_count": 511,
   "metadata": {
    "collapsed": false
   },
   "outputs": [
    {
     "name": "stdout",
     "output_type": "stream",
     "text": [
      "0.966746577991\n"
     ]
    }
   ],
   "source": [
    "mnbc = MultinomialNB()\n",
    "X_train_sub, X_test_sub, y_train_sub, y_test_sub =train_test_split(train_df_title, labels, test_size = 0.30)\n",
    "tfidf = TfidfVectorizer(stop_words='english')\n",
    "tfidf.fit(X_train_sub)\n",
    "tfs_sub = tfidf.transform(X_train_sub)\n",
    "mnbc.fit(tfs_sub, y_train_sub)\n",
    "test_tfs_sub  = tfidf.transform(X_test_sub)\n",
    "print(skmet.accuracy_score(mnbc.predict(test_tfs_sub), y_test_sub))"
   ]
  },
  {
   "cell_type": "code",
   "execution_count": 512,
   "metadata": {
    "collapsed": false
   },
   "outputs": [
    {
     "name": "stdout",
     "output_type": "stream",
     "text": [
      "0.974866599644\n"
     ]
    }
   ],
   "source": [
    "X_train_sub, X_test_sub, y_train_sub, y_test_sub =train_test_split(train_df_abs, labels, test_size = 0.30)\n",
    "tfidf = TfidfVectorizer(stop_words='english')\n",
    "tfidf.fit(X_train_sub)\n",
    "tfs_sub = tfidf.transform(X_train_sub)\n",
    "mnbc.fit(tfs_sub, y_train_sub)\n",
    "test_tfs_sub  = tfidf.transform(X_test_sub)\n",
    "print(skmet.accuracy_score(mnbc.predict(test_tfs_sub), y_test_sub))"
   ]
  },
  {
   "cell_type": "code",
   "execution_count": 519,
   "metadata": {
    "collapsed": false
   },
   "outputs": [
    {
     "name": "stdout",
     "output_type": "stream",
     "text": [
      "0.980434614492\n"
     ]
    }
   ],
   "source": [
    "X_train_sub, X_test_sub, y_train_sub, y_test_sub =train_test_split(train_df_title_plus_abs, labels, test_size = 0.30)\n",
    "tfidf = TfidfVectorizer(stop_words='english')\n",
    "tfidf.fit(X_train_sub)\n",
    "tfs_sub = tfidf.transform(X_train_sub)\n",
    "mnbc.fit(tfs_sub, y_train_sub)\n",
    "test_tfs_sub  = tfidf.transform(X_test_sub)\n",
    "print(skmet.accuracy_score(mnbc.predict(test_tfs_sub), y_test_sub))"
   ]
  },
  {
   "cell_type": "code",
   "execution_count": 516,
   "metadata": {
    "collapsed": false
   },
   "outputs": [
    {
     "name": "stdout",
     "output_type": "stream",
     "text": [
      "0.847884927693\n"
     ]
    }
   ],
   "source": [
    "X_train_sub, X_test_sub, y_train_sub, y_test_sub =train_test_split(train_df_body, labels, test_size = 0.30)\n",
    "tfidf = TfidfVectorizer(stop_words='english')\n",
    "tfidf.fit(X_train_sub)\n",
    "tfs_sub = tfidf.transform(X_train_sub)\n",
    "mnbc.fit(tfs_sub, y_train_sub)\n",
    "test_tfs_sub  = tfidf.transform(X_test_sub)\n",
    "print(skmet.accuracy_score(mnbc.predict(test_tfs_sub), y_test_sub))"
   ]
  },
  {
   "cell_type": "markdown",
   "metadata": {},
   "source": [
    "# ensemble with continuous data"
   ]
  },
  {
   "cell_type": "markdown",
   "metadata": {},
   "source": [
    "Independently fit a gaussian NB model on the continuous part of the data and a multinomial NB model on the categorical part. Then transform all the dataset by taking the class assignment probabilities (with predict_proba method) as new features: np.hstack((multinomial_probas, gaussian_probas)) and then refit a new model (e.g. a new gaussian NB) on the new features.\n"
   ]
  },
  {
   "cell_type": "code",
   "execution_count": 525,
   "metadata": {
    "collapsed": false
   },
   "outputs": [
    {
     "name": "stdout",
     "output_type": "stream",
     "text": [
      "0.927615806975\n"
     ]
    }
   ],
   "source": [
    "X_train_num = labeled_df_num_only_wot.iloc[X_train_sub.index]\n",
    "X_test_num = labeled_df_num_only_wot.iloc[X_test_sub.index]\n",
    "scaler = StandardScaler()\n",
    "X_train_num_s = scaler.fit_transform(X_train_num)\n",
    "X_test_num_s = scaler.fit_transform(X_test_num)\n",
    "\n",
    "rfc_num = RandomForestClassifier()\n",
    "rfc_num.fit(X_train_num_s, y_train_sub)\n",
    "print(skmet.accuracy_score(rfc_num.predict(X_test_num_s), y_test_sub))"
   ]
  },
  {
   "cell_type": "code",
   "execution_count": 526,
   "metadata": {
    "collapsed": false
   },
   "outputs": [
    {
     "name": "stdout",
     "output_type": "stream",
     "text": [
      "0.981594617586\n"
     ]
    }
   ],
   "source": [
    "X_train_sub, X_test_sub, y_train_sub, y_test_sub =train_test_split(train_df_title_plus_abs, labels, test_size = 0.30)\n",
    "tfidf = TfidfVectorizer(stop_words='english')\n",
    "tfidf.fit(X_train_sub)\n",
    "tfs_sub = tfidf.transform(X_train_sub)\n",
    "mnbc.fit(tfs_sub, y_train_sub)\n",
    "test_tfs_sub  = tfidf.transform(X_test_sub)\n",
    "print(skmet.accuracy_score(mnbc.predict(test_tfs_sub), y_test_sub))"
   ]
  },
  {
   "cell_type": "code",
   "execution_count": 528,
   "metadata": {
    "collapsed": false
   },
   "outputs": [],
   "source": [
    "multinomial_probas = mnbc.predict_proba(tfs_sub)\n",
    "gaussian_probas = rfc_num.predict_proba(X_train_num_s)"
   ]
  },
  {
   "cell_type": "code",
   "execution_count": 529,
   "metadata": {
    "collapsed": true
   },
   "outputs": [],
   "source": [
    "combined_probs = np.hstack((multinomial_probas, gaussian_probas))"
   ]
  },
  {
   "cell_type": "code",
   "execution_count": 548,
   "metadata": {
    "collapsed": false
   },
   "outputs": [
    {
     "data": {
      "text/html": [
       "<div>\n",
       "<table border=\"1\" class=\"dataframe\">\n",
       "  <thead>\n",
       "    <tr style=\"text-align: right;\">\n",
       "      <th></th>\n",
       "      <th>author_len</th>\n",
       "      <th>title_len</th>\n",
       "      <th>abs_len</th>\n",
       "      <th>body_len</th>\n",
       "      <th>abstract_title</th>\n",
       "    </tr>\n",
       "  </thead>\n",
       "  <tbody>\n",
       "    <tr>\n",
       "      <th>0</th>\n",
       "      <td>10</td>\n",
       "      <td>4.682131</td>\n",
       "      <td>7.077498</td>\n",
       "      <td>10.750107</td>\n",
       "      <td>Reduced laterality as a trait marker of schizo...</td>\n",
       "    </tr>\n",
       "  </tbody>\n",
       "</table>\n",
       "</div>"
      ],
      "text/plain": [
       "   author_len  title_len   abs_len   body_len  \\\n",
       "0          10   4.682131  7.077498  10.750107   \n",
       "\n",
       "                                      abstract_title  \n",
       "0  Reduced laterality as a trait marker of schizo...  "
      ]
     },
     "execution_count": 548,
     "metadata": {},
     "output_type": "execute_result"
    }
   ],
   "source": [
    "X_ensemble.head(1)"
   ]
  },
  {
   "cell_type": "code",
   "execution_count": 546,
   "metadata": {
    "collapsed": false
   },
   "outputs": [],
   "source": [
    "X_ensemble = labeled_df.copy()"
   ]
  },
  {
   "cell_type": "code",
   "execution_count": 547,
   "metadata": {
    "collapsed": false
   },
   "outputs": [],
   "source": [
    "drop_cols = ['bodyText', 'paperAbstract', 'title', 'FOS', 'target', 'all_text']\n",
    "for col in drop_cols:\n",
    "    X_ensemble.drop(col, 1, inplace=True)"
   ]
  },
  {
   "cell_type": "code",
   "execution_count": null,
   "metadata": {
    "collapsed": true
   },
   "outputs": [],
   "source": [
    "ColumnSelector"
   ]
  },
  {
   "cell_type": "code",
   "execution_count": null,
   "metadata": {
    "collapsed": true
   },
   "outputs": [],
   "source": [
    "X_ensem"
   ]
  },
  {
   "cell_type": "code",
   "execution_count": 650,
   "metadata": {
    "collapsed": false
   },
   "outputs": [],
   "source": [
    "class ColumnSelector(object):\n",
    "    def __init__(self, cols):\n",
    "        self.cols = cols\n",
    "\n",
    "    def transform(self, X, y=None):\n",
    "        X_slice = X.iloc[:, self.cols]\n",
    "        if X_slice.shape[1] == 1:\n",
    "            return X_slice['abstract_title']\n",
    "        else:\n",
    "            return X_slice\n",
    "\n",
    "    def fit(self, X, y=None):\n",
    "        return self"
   ]
  },
  {
   "cell_type": "code",
   "execution_count": 651,
   "metadata": {
    "collapsed": true
   },
   "outputs": [],
   "source": [
    "class EnsembleClassifier(BaseEstimator, ClassifierMixin):\n",
    "\n",
    "    def __init__(self, clfs, weights=None):\n",
    "        self.clfs = clfs\n",
    "        self.weights = weights\n",
    "\n",
    "    def fit(self, X, y):\n",
    "\n",
    "        for clf in self.clfs:\n",
    "            clf.fit(X, y)\n",
    "\n",
    "    def predict(self, X):\n",
    "        self.classes_ = np.asarray([clf.predict(X) for clf in self.clfs])\n",
    "        if self.weights:\n",
    "            avg = self.predict_proba(X)\n",
    "\n",
    "            maj = np.apply_along_axis(lambda x: max(enumerate(x), key=operator.itemgetter(1))[0], axis=1, arr=avg)\n",
    "\n",
    "        else:\n",
    "            maj = np.asarray([np.argmax(np.bincount(self.classes_[:,c])) for c in range(self.classes_.shape[1])])\n",
    "\n",
    "        return maj\n",
    "\n",
    "    def predict_proba(self, X):\n",
    "        \n",
    "        self.probas_ = [clf.predict_proba(X) for clf in self.clfs]\n",
    "        avg = np.average(self.probas_, axis=0, weights=self.weights)\n",
    "\n",
    "        return avg"
   ]
  },
  {
   "cell_type": "code",
   "execution_count": 652,
   "metadata": {
    "collapsed": false,
    "scrolled": true
   },
   "outputs": [
    {
     "data": {
      "text/plain": [
       "0        Reduced laterality as a trait marker of schizo...\n",
       "1        Consistent image analogies using semi-supervis...\n",
       "2                                A real-time edge linker 0\n",
       "3        Estrogen-induced activation of the mitogen-act...\n",
       "4        Radicals of Presentation in Persistent Convers...\n",
       "5        Efficient sub-pixel based light field reconstr...\n",
       "6        Fast and Robust Archetypal Analysis for Repres...\n",
       "7        Understanding Continuous Use of Virtual Commun...\n",
       "8        An integrative model for neuronal activity-ind...\n",
       "9        Stereo Matching on Objects with Fractional Bou...\n",
       "10       \"How many planar viewing surfaces are there in...\n",
       "11       Process-Aware Knowledge Retrieval Even with mo...\n",
       "12       Extending UML Activity Diagram for Workflow Mo...\n",
       "13       Managing Information Technology in the Transna...\n",
       "14       Investigating Consumers' Variety Seeking Behav...\n",
       "15       Bluetooth Discovery Time with Multiple Inquire...\n",
       "16       From a formal dynamic semantics of Sisal to a ...\n",
       "17       Real-time fMRI links subjective experience wit...\n",
       "18       A Novel Human Detection Approach Based on Dept...\n",
       "19       Quality issues in asset creation on a massive ...\n",
       "20       e-Government and Cyber Security: The Role of C...\n",
       "21                          Anatomy of a color histogram 0\n",
       "22       Introduction to Decision Making in Production ...\n",
       "23       Wavelet belief propagation for large scale inf...\n",
       "24       Regulation of the on bipolar cell mGluR6 pathw...\n",
       "25       MPC \"Maleficent\" VFX breakdown As the lead VFX...\n",
       "26       Fast image stitching and editing for panorama ...\n",
       "27       Low ethanol concentrations selectively augment...\n",
       "28       Using scene features to improve wide-area vide...\n",
       "29       Contributions of tutor and bird's own song exp...\n",
       "                               ...                        \n",
       "43072                                         P'tit Parc 0\n",
       "43073    Constrained texture mapping for polygonal mesh...\n",
       "43074    Introduction to the Open Source Application So...\n",
       "43075    Online Identity Construction and Expectation o...\n",
       "43076    Video Editing with Temporal, Spatial and Appea...\n",
       "43077    Security in Health Information Systems: An Exp...\n",
       "43078    Evidence for the involvement of Tiam1 in axon ...\n",
       "43079    Decoding sequential stages of task preparation...\n",
       "43080    The basic and general idea of motion People re...\n",
       "43081    The functional significance of EEG microstates...\n",
       "43082    Facial cartography: interactive high-resolutio...\n",
       "43083    Visual Event Recognition in News Video using K...\n",
       "43084    Digital Consumer Networks and Producer-Consume...\n",
       "43085    Linking inter-individual differences in the co...\n",
       "43086    Characterization of the rat mutant dystonic (d...\n",
       "43087    2-D shape blending: an intrinsic solution to t...\n",
       "43088    A segmentation-aware object detection model wi...\n",
       "43089     On Photometric Aspects of Catadioptric Cameras 0\n",
       "43090    A High Level Visual Notation for Understanding...\n",
       "43091    Distribution of N-methyl-D-aspartate-sensitive...\n",
       "43092    Alteration of neuronal firing properties after...\n",
       "43093    Implicit reference-based group-wise image regi...\n",
       "43094    A New Approach to VAr Pricing and Control in t...\n",
       "43095    People-tracking-by-detection and people-detect...\n",
       "43096    3D Face Recognition in the Presence of Express...\n",
       "43097    Electric Energy Storage Arbitrage in Electric ...\n",
       "43098    Identification of amino acid residues in GluR1...\n",
       "43099    Multi-shot Imaging: Joint Alignment, Deblurrin...\n",
       "43100    Expression of alpha(1b) adrenoceptor mRNA in c...\n",
       "43101    A voxel-based clustering approach for the auto...\n",
       "Name: abstract_title, dtype: object"
      ]
     },
     "execution_count": 652,
     "metadata": {},
     "output_type": "execute_result"
    }
   ],
   "source": [
    "ColumnSelector([4]).transform(X_ensemble)"
   ]
  },
  {
   "cell_type": "code",
   "execution_count": 653,
   "metadata": {
    "collapsed": false
   },
   "outputs": [],
   "source": [
    "pipeline_text = Pipeline([\n",
    "    ('sel', ColumnSelector([4])),\n",
    "    ('vect', TfidfVectorizer()),\n",
    "    ('clf', MultinomialNB()),\n",
    "])\n",
    "\n",
    "pipeline_num = Pipeline([\n",
    "    ('sel', ColumnSelector([0, 1, 2, 3])),\n",
    "    ('clf', RandomForestClassifier()),\n",
    "])"
   ]
  },
  {
   "cell_type": "code",
   "execution_count": 654,
   "metadata": {
    "collapsed": false
   },
   "outputs": [],
   "source": [
    "# ColumnSelector([4]).transform(X_ensemble)"
   ]
  },
  {
   "cell_type": "code",
   "execution_count": 657,
   "metadata": {
    "collapsed": false
   },
   "outputs": [
    {
     "data": {
      "text/plain": [
       "array([ 0.98086024,  0.97891147,  0.98085758])"
      ]
     },
     "execution_count": 657,
     "metadata": {},
     "output_type": "execute_result"
    }
   ],
   "source": [
    "cross_val_score(pipeline_text, X_ensemble, labels, cv=3)"
   ]
  },
  {
   "cell_type": "code",
   "execution_count": 638,
   "metadata": {
    "collapsed": false
   },
   "outputs": [
    {
     "data": {
      "text/plain": [
       "array([ 0.93054009,  0.92671214,  0.93032159])"
      ]
     },
     "execution_count": 638,
     "metadata": {},
     "output_type": "execute_result"
    }
   ],
   "source": [
    "cross_val_score(pipeline_num, X_ensemble, labels, cv=3)"
   ]
  },
  {
   "cell_type": "code",
   "execution_count": null,
   "metadata": {
    "collapsed": true
   },
   "outputs": [],
   "source": []
  },
  {
   "cell_type": "code",
   "execution_count": null,
   "metadata": {
    "collapsed": true
   },
   "outputs": [],
   "source": [
    "train_df_title"
   ]
  },
  {
   "cell_type": "markdown",
   "metadata": {
    "heading_collapsed": true
   },
   "source": [
    "## looking at wrong predictions, text vs num"
   ]
  },
  {
   "cell_type": "code",
   "execution_count": 452,
   "metadata": {
    "collapsed": false,
    "hidden": true
   },
   "outputs": [
    {
     "data": {
      "text/plain": [
       "905"
      ]
     },
     "execution_count": 452,
     "metadata": {},
     "output_type": "execute_result"
    }
   ],
   "source": [
    "nwp_set = set(X_wrong_prediction_num.index)\n",
    "len(nwp_set)"
   ]
  },
  {
   "cell_type": "code",
   "execution_count": 462,
   "metadata": {
    "collapsed": false,
    "hidden": true
   },
   "outputs": [
    {
     "data": {
      "text/plain": [
       "312"
      ]
     },
     "execution_count": 462,
     "metadata": {},
     "output_type": "execute_result"
    }
   ],
   "source": [
    "len(text_wp_set.difference(nwp_set))"
   ]
  },
  {
   "cell_type": "code",
   "execution_count": 369,
   "metadata": {
    "collapsed": false,
    "hidden": true,
    "scrolled": false
   },
   "outputs": [
    {
     "data": {
      "text/plain": [
       "(162, 2)"
      ]
     },
     "execution_count": 369,
     "metadata": {},
     "output_type": "execute_result"
    }
   ],
   "source": [
    "wrong_probs = mnbc.predict_proba(tfidf.transform(X_wrong_prediction))\n",
    "wrong_probs.shape"
   ]
  },
  {
   "cell_type": "code",
   "execution_count": 378,
   "metadata": {
    "collapsed": false,
    "hidden": true
   },
   "outputs": [
    {
     "data": {
      "text/plain": [
       "34"
      ]
     },
     "execution_count": 378,
     "metadata": {},
     "output_type": "execute_result"
    }
   ],
   "source": [
    "len([max(probs) for probs in wrong_probs if max(probs) > 0.75])"
   ]
  },
  {
   "cell_type": "markdown",
   "metadata": {
    "heading_collapsed": true
   },
   "source": [
    "# End "
   ]
  },
  {
   "cell_type": "code",
   "execution_count": null,
   "metadata": {
    "collapsed": true,
    "hidden": true
   },
   "outputs": [],
   "source": [
    "# corpus_sample_raw_df.replace(['',[]], np.NaN)"
   ]
  }
 ],
 "metadata": {
  "kernelspec": {
   "display_name": "Python 3",
   "language": "python",
   "name": "python3"
  },
  "language_info": {
   "codemirror_mode": {
    "name": "ipython",
    "version": 3
   },
   "file_extension": ".py",
   "mimetype": "text/x-python",
   "name": "python",
   "nbconvert_exporter": "python",
   "pygments_lexer": "ipython3",
   "version": "3.5.0"
  }
 },
 "nbformat": 4,
 "nbformat_minor": 0
}
