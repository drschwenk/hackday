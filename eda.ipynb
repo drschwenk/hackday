{
 "cells": [
  {
   "cell_type": "markdown",
   "metadata": {},
   "source": [
    "# Table of Contents\n",
    "* [Loading data](#Loading-data)\n",
    "* [derived columns](#derived-columns)\n",
    "\t* [creating target_labels](#creating-target_labels)\n",
    "* [Venue/Journal info](#Venue/Journal-info)\n",
    "* [missing values](#missing-values)\n",
    "\t* [dropping meaningless columns](#dropping-meaningless-columns)\n",
    "* [Exploring features](#Exploring-features)\n"
   ]
  },
  {
   "cell_type": "code",
   "execution_count": 141,
   "metadata": {
    "collapsed": false,
    "run_control": {
     "frozen": false,
     "read_only": false
    }
   },
   "outputs": [],
   "source": [
    "%%capture\n",
    "from __future__ import division\n",
    "import numpy as np\n",
    "import pandas as pd\n",
    "import scipy.stats as st\n",
    "import itertools\n",
    "import math\n",
    "from collections import Counter, defaultdict\n",
    "%load_ext autoreload\n",
    "%autoreload 2\n",
    "\n",
    "import json\n",
    "import glob"
   ]
  },
  {
   "cell_type": "code",
   "execution_count": 196,
   "metadata": {
    "collapsed": true,
    "run_control": {
     "frozen": false,
     "read_only": false
    }
   },
   "outputs": [],
   "source": [
    "%%capture\n",
    "import matplotlib as mpl\n",
    "mpl.use(\"Agg\")\n",
    "import matplotlib.pylab as plt\n",
    "#%matplotlib notebook\n",
    "%matplotlib inline\n",
    "%load_ext base16_mplrc\n",
    "%base16_mplrc light default\n",
    "plt.rcParams['figure.figsize'] = (16.0, 10.0)\n",
    "import seaborn as sns\n",
    "sns.set()"
   ]
  },
  {
   "cell_type": "code",
   "execution_count": 257,
   "metadata": {
    "collapsed": true
   },
   "outputs": [],
   "source": [
    "import nltk\n",
    "import string\n",
    "from nltk.corpus import stopwords\n",
    "from sklearn.feature_extraction.text import TfidfVectorizer\n",
    "from nltk.tokenize import word_tokenize\n",
    "from nltk.stem.porter import PorterStemmer\n",
    "from nltk.stem.snowball import SnowballStemmer\n",
    "from nltk.stem.wordnet import WordNetLemmatizer"
   ]
  },
  {
   "cell_type": "code",
   "execution_count": 259,
   "metadata": {
    "collapsed": true
   },
   "outputs": [],
   "source": [
    "from sklearn.grid_search import GridSearchCV\n",
    "from sklearn.linear_model import LogisticRegression\n",
    "from sklearn.ensemble import AdaBoostClassifier, GradientBoostingClassifier,RandomForestClassifier\n",
    "from sklearn.svm import SVC\n",
    "from sklearn.neighbors import KNeighborsClassifier\n",
    "from sklearn.cross_validation import train_test_split, cross_val_score\n",
    "from sklearn.feature_selection import SelectKBest, VarianceThreshold \n",
    "from sklearn.cross_validation import ShuffleSplit\n",
    "import sklearn.metrics as skmet"
   ]
  },
  {
   "cell_type": "code",
   "execution_count": 242,
   "metadata": {
    "collapsed": true
   },
   "outputs": [],
   "source": [
    "from sklearn.naive_bayes import MultinomialNB"
   ]
  },
  {
   "cell_type": "markdown",
   "metadata": {
    "heading_collapsed": true
   },
   "source": [
    "# Loading data"
   ]
  },
  {
   "cell_type": "code",
   "execution_count": 13,
   "metadata": {
    "collapsed": false,
    "hidden": true,
    "run_control": {
     "frozen": false,
     "read_only": false
    }
   },
   "outputs": [],
   "source": [
    "sample_data_dir = './data/corpus_1_pct_sample/'\n",
    "test_file = sample_data_dir + 'part-00000'"
   ]
  },
  {
   "cell_type": "code",
   "execution_count": 18,
   "metadata": {
    "collapsed": true,
    "hidden": true,
    "run_control": {
     "frozen": false,
     "read_only": false
    }
   },
   "outputs": [],
   "source": [
    "corpus_sample_raw_df = pd.DataFrame()"
   ]
  },
  {
   "cell_type": "code",
   "execution_count": 20,
   "metadata": {
    "collapsed": false,
    "hidden": true,
    "run_control": {
     "frozen": false,
     "read_only": false
    }
   },
   "outputs": [],
   "source": [
    "for file in glob.glob(sample_data_dir + '*'):\n",
    "    running_idx = 0\n",
    "    with open(file, 'r') as f:\n",
    "        json_lines = f.readlines()\n",
    "        record_by_index = {running_idx + idx: json.loads(record) for idx, record in enumerate(json_lines)}\n",
    "        running_idx += len(json_lines)\n",
    "        if corpus_sample_raw_df.empty:\n",
    "            corpus_sample_raw_df = pd.DataFrame.from_dict(record_by_index, orient='index')\n",
    "        else:\n",
    "            corpus_sample_raw_df = corpus_sample_raw_df.append(pd.DataFrame.from_dict(record_by_index, orient='index'))"
   ]
  },
  {
   "cell_type": "code",
   "execution_count": 22,
   "metadata": {
    "collapsed": false,
    "hidden": true,
    "run_control": {
     "frozen": false,
     "read_only": false
    }
   },
   "outputs": [
    {
     "data": {
      "text/plain": [
       "(49621, 30)"
      ]
     },
     "execution_count": 22,
     "metadata": {},
     "output_type": "execute_result"
    }
   ],
   "source": [
    "corpus_sample_raw_df.shape"
   ]
  },
  {
   "cell_type": "code",
   "execution_count": 24,
   "metadata": {
    "collapsed": false,
    "hidden": true,
    "run_control": {
     "frozen": false,
     "read_only": false
    }
   },
   "outputs": [
    {
     "data": {
      "text/plain": [
       "['authors',\n",
       " 'bodyText',\n",
       " 'citationContexts',\n",
       " 'citedBy',\n",
       " 'citedByYearHistogram',\n",
       " 'classification',\n",
       " 'clusterInfo',\n",
       " 'dataSetNames',\n",
       " 'earliestAcquisitionDate',\n",
       " 'estimatedCitationAcceleration',\n",
       " 'estimatedCitationVelocity',\n",
       " 'followOn',\n",
       " 'id',\n",
       " 'indexInclusionReason',\n",
       " 'journal',\n",
       " 'keyCitedByYearHistogram',\n",
       " 'keyPhrases',\n",
       " 'numCitedBy',\n",
       " 'numCitedByEstimate',\n",
       " 'numCiting',\n",
       " 'numKeyCitations',\n",
       " 'numKeyReferences',\n",
       " 'paperAbstract',\n",
       " 'presentationIds',\n",
       " 'socialLinks',\n",
       " 'sourceInfo',\n",
       " 'title',\n",
       " 'venue',\n",
       " 'viewablePdfId',\n",
       " 'year']"
      ]
     },
     "execution_count": 24,
     "metadata": {},
     "output_type": "execute_result"
    }
   ],
   "source": [
    "sorted(list(corpus_sample_raw_df.columns))"
   ]
  },
  {
   "cell_type": "markdown",
   "metadata": {},
   "source": [
    "# derived columns"
   ]
  },
  {
   "cell_type": "code",
   "execution_count": 205,
   "metadata": {
    "collapsed": true
   },
   "outputs": [],
   "source": [
    "corpus_sample_raw_df['author_len'] = corpus_sample_raw_df['authors'].apply(lambda x: len(x))"
   ]
  },
  {
   "cell_type": "markdown",
   "metadata": {},
   "source": [
    "## creating target_labels"
   ]
  },
  {
   "cell_type": "code",
   "execution_count": 161,
   "metadata": {
    "collapsed": false
   },
   "outputs": [],
   "source": [
    "def assign_fos(venue):\n",
    "    NS_venues = ['The Journal of neuroscience : the official journal of the Society for Neuroscience', 'NEUROIMAGE', 'Frontiers in Neuroscience']\n",
    "    CS_venues = ['HICSS', 'CVPR', 'SIGGRAPH']\n",
    "    if venue in NS_venues:\n",
    "        return 'NS'\n",
    "    elif venue in CS_venues:\n",
    "        return 'CS'\n",
    "    else:\n",
    "        return np.NaN"
   ]
  },
  {
   "cell_type": "code",
   "execution_count": 206,
   "metadata": {
    "collapsed": false
   },
   "outputs": [],
   "source": [
    "corpus_sample_raw_df['FOS'] = corpus_sample_raw_df['venue'].apply(assign_fos)"
   ]
  },
  {
   "cell_type": "code",
   "execution_count": 207,
   "metadata": {
    "collapsed": false
   },
   "outputs": [
    {
     "data": {
      "text/plain": [
       "CS    291\n",
       "NS    157\n",
       "Name: FOS, dtype: int64"
      ]
     },
     "execution_count": 207,
     "metadata": {},
     "output_type": "execute_result"
    }
   ],
   "source": [
    "corpus_sample_raw_df['FOS'].value_counts()"
   ]
  },
  {
   "cell_type": "markdown",
   "metadata": {
    "heading_collapsed": true
   },
   "source": [
    "# Venue/Journal info"
   ]
  },
  {
   "cell_type": "code",
   "execution_count": 134,
   "metadata": {
    "collapsed": false,
    "hidden": true,
    "run_control": {
     "frozen": false,
     "read_only": false
    }
   },
   "outputs": [
    {
     "data": {
      "text/plain": [
       "6259"
      ]
     },
     "execution_count": 134,
     "metadata": {},
     "output_type": "execute_result"
    }
   ],
   "source": [
    "len(pd.unique(corpus_sample_raw_df['venue']))"
   ]
  },
  {
   "cell_type": "code",
   "execution_count": 142,
   "metadata": {
    "collapsed": false,
    "hidden": true,
    "run_control": {
     "frozen": false,
     "read_only": false
    },
    "scrolled": true
   },
   "outputs": [
    {
     "data": {
      "text/plain": [
       "                             5156\n",
       "PloS one                     1387\n",
       "ArXiv                         647\n",
       "ICASSP                        318\n",
       "Scientific reports            207\n",
       "ICIP                          202\n",
       "ICC                           202\n",
       "IEICET                        183\n",
       "ISCAS                         181\n",
       "INTERSPEECH                   178\n",
       "ICRA                          178\n",
       "British journal of cancer     173\n",
       "GLOBECOM                      163\n",
       "AMC                           159\n",
       "IGARSS                        152\n",
       "Name: venue, dtype: int64"
      ]
     },
     "execution_count": 142,
     "metadata": {},
     "output_type": "execute_result"
    }
   ],
   "source": [
    "corpus_sample_raw_df['venue'].value_counts()[:15]"
   ]
  },
  {
   "cell_type": "code",
   "execution_count": 53,
   "metadata": {
    "collapsed": false,
    "hidden": true
   },
   "outputs": [],
   "source": [
    "vj_df = corpus_sample_raw_df[['venue', 'journal']].dropna()"
   ]
  },
  {
   "cell_type": "code",
   "execution_count": 59,
   "metadata": {
    "collapsed": false,
    "hidden": true
   },
   "outputs": [],
   "source": [
    "vj_df_hasname = vj_df[vj_df['journal'].apply(lambda x: 'name'  in x.keys())]"
   ]
  },
  {
   "cell_type": "code",
   "execution_count": 66,
   "metadata": {
    "collapsed": false,
    "hidden": true
   },
   "outputs": [],
   "source": [
    "%%capture\n",
    "vj_df_hasname['journal_name'] = vj_df_hasname['journal'].apply(lambda x: x['name'])"
   ]
  },
  {
   "cell_type": "code",
   "execution_count": 81,
   "metadata": {
    "collapsed": false,
    "hidden": true
   },
   "outputs": [],
   "source": [
    "vj_df_name_nn = vj_df_hasname[vj_df_hasname['journal_name'] != ''][vj_df_hasname['venue'] != ''][['venue', 'journal_name']]"
   ]
  },
  {
   "cell_type": "code",
   "execution_count": 109,
   "metadata": {
    "collapsed": false,
    "hidden": true
   },
   "outputs": [],
   "source": [
    "venue_lookup = defaultdict(list)\n",
    "for venue, journal_df in vj_df_name_nn.groupby('venue'):\n",
    "    venue_lookup[venue].append(pd.unique(journal_df['journal_name']).tolist())"
   ]
  },
  {
   "cell_type": "code",
   "execution_count": 105,
   "metadata": {
    "collapsed": false,
    "hidden": true
   },
   "outputs": [],
   "source": [
    "pd.Series(venue_lookup).to_csv('journal_lookup.csv')"
   ]
  },
  {
   "cell_type": "markdown",
   "metadata": {
    "heading_collapsed": true
   },
   "source": [
    "# missing values"
   ]
  },
  {
   "cell_type": "code",
   "execution_count": 33,
   "metadata": {
    "collapsed": false,
    "hidden": true
   },
   "outputs": [
    {
     "data": {
      "text/plain": [
       "5156"
      ]
     },
     "execution_count": 33,
     "metadata": {},
     "output_type": "execute_result"
    }
   ],
   "source": [
    "(corpus_sample_raw_df['venue'] == \"\").sum()"
   ]
  },
  {
   "cell_type": "code",
   "execution_count": 106,
   "metadata": {
    "collapsed": true,
    "hidden": true
   },
   "outputs": [
    {
     "data": {
      "text/plain": [
       "authors                          0.000000\n",
       "bodyText                         0.000000\n",
       "citationContexts                 0.000000\n",
       "citedBy                          0.000000\n",
       "citedByYearHistogram             0.000000\n",
       "classification                   0.000000\n",
       "clusterInfo                      0.000000\n",
       "dataSetNames                     0.000000\n",
       "earliestAcquisitionDate          0.475928\n",
       "estimatedCitationAcceleration    0.000000\n",
       "estimatedCitationVelocity        0.000000\n",
       "followOn                         0.000000\n",
       "id                               0.000000\n",
       "indexInclusionReason             0.000000\n",
       "journal                          0.106527\n",
       "keyCitedByYearHistogram          0.000000\n",
       "keyPhrases                       0.000000\n",
       "numCitedBy                       0.000000\n",
       "numCitedByEstimate               0.000000\n",
       "numCiting                        0.000000\n",
       "numKeyCitations                  0.000000\n",
       "numKeyReferences                 0.000000\n",
       "paperAbstract                    0.000000\n",
       "presentationIds                  0.000000\n",
       "socialLinks                      0.000000\n",
       "sourceInfo                       0.000000\n",
       "title                            0.000000\n",
       "venue                            0.000000\n",
       "viewablePdfId                    0.408194\n",
       "year                             0.004051\n",
       "dtype: float64"
      ]
     },
     "execution_count": 106,
     "metadata": {},
     "output_type": "execute_result"
    }
   ],
   "source": [
    "corpus_sample_raw_df.isnull().sum()/corpus_sample_raw_df.shape[0]"
   ]
  },
  {
   "cell_type": "markdown",
   "metadata": {
    "heading_collapsed": true,
    "hidden": true
   },
   "source": [
    "## dropping bad columns"
   ]
  },
  {
   "cell_type": "code",
   "execution_count": 226,
   "metadata": {
    "collapsed": false,
    "hidden": true
   },
   "outputs": [],
   "source": [
    "all_cols = list(corpus_sample_raw_df.columns)\n",
    "keep_cols = ['bodyText', 'paperAbstract', 'title']\n",
    "synth_cols = ['author_len', 'FOS']"
   ]
  },
  {
   "cell_type": "code",
   "execution_count": 209,
   "metadata": {
    "collapsed": false,
    "hidden": true
   },
   "outputs": [],
   "source": [
    "corpus_sample_proc_df = corpus_sample_raw_df.copy()\n",
    "for col in all_cols:\n",
    "    if col not in keep_cols + synth_cols:    \n",
    "        corpus_sample_proc_df.drop(col, 1, inplace=True)"
   ]
  },
  {
   "cell_type": "code",
   "execution_count": 210,
   "metadata": {
    "collapsed": false,
    "hidden": true
   },
   "outputs": [
    {
     "data": {
      "text/plain": [
       "(448, 5)"
      ]
     },
     "execution_count": 210,
     "metadata": {},
     "output_type": "execute_result"
    }
   ],
   "source": [
    "corpus_sample_labeled_df = corpus_sample_proc_df.dropna()\n",
    "corpus_sample_labeled_df.shape"
   ]
  },
  {
   "cell_type": "code",
   "execution_count": 212,
   "metadata": {
    "collapsed": false,
    "hidden": true,
    "scrolled": true
   },
   "outputs": [
    {
     "data": {
      "text/html": [
       "<div>\n",
       "<table border=\"1\" class=\"dataframe\">\n",
       "  <thead>\n",
       "    <tr style=\"text-align: right;\">\n",
       "      <th></th>\n",
       "      <th>bodyText</th>\n",
       "      <th>paperAbstract</th>\n",
       "      <th>title</th>\n",
       "      <th>FOS</th>\n",
       "      <th>author_len</th>\n",
       "      <th>target</th>\n",
       "      <th>title_len</th>\n",
       "    </tr>\n",
       "  </thead>\n",
       "  <tbody>\n",
       "    <tr>\n",
       "      <th>138</th>\n",
       "      <td>0</td>\n",
       "      <td>Does breastfeeding alter early brain developme...</td>\n",
       "      <td>Nutritional influences on early white matter d...</td>\n",
       "      <td>NS</td>\n",
       "      <td>5</td>\n",
       "      <td>False</td>\n",
       "      <td>91</td>\n",
       "    </tr>\n",
       "    <tr>\n",
       "      <th>198</th>\n",
       "      <td>Introduction\\n\\nRandom variables are \" concord...</td>\n",
       "      <td>In brain-imaging research, we are often intere...</td>\n",
       "      <td>Quantifying inter-subject agreement in brain-i...</td>\n",
       "      <td>NS</td>\n",
       "      <td>7</td>\n",
       "      <td>False</td>\n",
       "      <td>61</td>\n",
       "    </tr>\n",
       "  </tbody>\n",
       "</table>\n",
       "</div>"
      ],
      "text/plain": [
       "                                              bodyText  \\\n",
       "138                                                  0   \n",
       "198  Introduction\\n\\nRandom variables are \" concord...   \n",
       "\n",
       "                                         paperAbstract  \\\n",
       "138  Does breastfeeding alter early brain developme...   \n",
       "198  In brain-imaging research, we are often intere...   \n",
       "\n",
       "                                                 title FOS  author_len target  \\\n",
       "138  Nutritional influences on early white matter d...  NS           5  False   \n",
       "198  Quantifying inter-subject agreement in brain-i...  NS           7  False   \n",
       "\n",
       "     title_len  \n",
       "138         91  \n",
       "198         61  "
      ]
     },
     "execution_count": 212,
     "metadata": {},
     "output_type": "execute_result"
    }
   ],
   "source": [
    "labeled_df.head(2)"
   ]
  },
  {
   "cell_type": "code",
   "execution_count": null,
   "metadata": {
    "collapsed": true,
    "hidden": true
   },
   "outputs": [],
   "source": [
    "labeled_df['title_len'] = labeled_df['title'].apply(lambda x: len(x))"
   ]
  },
  {
   "cell_type": "markdown",
   "metadata": {},
   "source": [
    "# Exploring features"
   ]
  },
  {
   "cell_type": "code",
   "execution_count": 247,
   "metadata": {
    "collapsed": false
   },
   "outputs": [],
   "source": [
    "labeled_df = corpus_sample_labeled_df.replace('', '0')\n",
    "labeled_df['target'] = labeled_df['FOS'] == 'CS'\n",
    "# _ = labeled_df['author_len'].hist(log = False, bins = 30)"
   ]
  },
  {
   "cell_type": "code",
   "execution_count": 248,
   "metadata": {
    "collapsed": false
   },
   "outputs": [],
   "source": [
    "labeled_df['title_len'] = labeled_df['title'].apply(lambda x: np.log(len(x)))\n",
    "labeled_df['abs_len'] = labeled_df['paperAbstract'].apply(lambda x: np.log(len(x)))\n",
    "labeled_df['body_len'] = labeled_df['bodyText'].apply(lambda x: np.log(len(x)))\n",
    "labeled_df['all_text'] = labeled_df['title'].str.cat(labeled_df['paperAbstract'], ' ').str.cat(labeled_df['bodyText'], ' ')\n",
    "for col in keep_cols:\n",
    "    labeled_df.drop(col, 1, inplace=True)"
   ]
  },
  {
   "cell_type": "code",
   "execution_count": 240,
   "metadata": {
    "collapsed": false
   },
   "outputs": [
    {
     "data": {
      "image/png": "[encoded data removed]",
      "text/plain": [
       "<matplotlib.figure.Figure at 0x147106a20>"
      ]
     },
     "metadata": {},
     "output_type": "display_data"
    }
   ],
   "source": [
    "colors = [\"windows blue\", \"amber\"]\n",
    "my_pal = sns.xkcd_palette(colors)\n",
    "_ = sns.pairplot(labeled_df, hue = 'target', palette = my_pal)"
   ]
  },
  {
   "cell_type": "code",
   "execution_count": null,
   "metadata": {
    "collapsed": true
   },
   "outputs": [],
   "source": []
  },
  {
   "cell_type": "markdown",
   "metadata": {},
   "source": [
    "# Baseline Model"
   ]
  },
  {
   "cell_type": "code",
   "execution_count": 250,
   "metadata": {
    "collapsed": true
   },
   "outputs": [],
   "source": [
    "stop_words = (stopwords.words() + list(string.punctuation) + [\"''\", \"``\", \"--\"])\n",
    "\n",
    "def clean_text(s, stop_words, stemmer):\n",
    "    tokens = word_tokenize(s.replace('\\n', ''), language='english')\n",
    "    stop_removed = [word for word in tokens if word not in stop_words]\n",
    "    stem = stemmer(language='english')\n",
    "    stemmed_words = \" \".join([stem.stem(word) for word in stop_removed])\n",
    "    return stemmed_words\n",
    "\n",
    "def clean_text(s, stop_words):\n",
    "    tokens = word_tokenize(s.replace('\\n', ''), language='english')\n",
    "    stop_removed = [word for word in tokens if word not in stop_words]\n",
    "    return stemmed_words"
   ]
  },
  {
   "cell_type": "code",
   "execution_count": 249,
   "metadata": {
    "collapsed": false
   },
   "outputs": [
    {
     "data": {
      "text/html": [
       "<div>\n",
       "<table border=\"1\" class=\"dataframe\">\n",
       "  <thead>\n",
       "    <tr style=\"text-align: right;\">\n",
       "      <th></th>\n",
       "      <th>FOS</th>\n",
       "      <th>author_len</th>\n",
       "      <th>target</th>\n",
       "      <th>title_len</th>\n",
       "      <th>abs_len</th>\n",
       "      <th>body_len</th>\n",
       "      <th>all_text</th>\n",
       "    </tr>\n",
       "  </thead>\n",
       "  <tbody>\n",
       "    <tr>\n",
       "      <th>138</th>\n",
       "      <td>NS</td>\n",
       "      <td>5</td>\n",
       "      <td>False</td>\n",
       "      <td>4.510860</td>\n",
       "      <td>7.281386</td>\n",
       "      <td>0.000000</td>\n",
       "      <td>Nutritional influences on early white matter d...</td>\n",
       "    </tr>\n",
       "    <tr>\n",
       "      <th>198</th>\n",
       "      <td>NS</td>\n",
       "      <td>7</td>\n",
       "      <td>False</td>\n",
       "      <td>4.110874</td>\n",
       "      <td>7.017506</td>\n",
       "      <td>10.885828</td>\n",
       "      <td>Quantifying inter-subject agreement in brain-i...</td>\n",
       "    </tr>\n",
       "  </tbody>\n",
       "</table>\n",
       "</div>"
      ],
      "text/plain": [
       "    FOS  author_len target  title_len   abs_len   body_len  \\\n",
       "138  NS           5  False   4.510860  7.281386   0.000000   \n",
       "198  NS           7  False   4.110874  7.017506  10.885828   \n",
       "\n",
       "                                              all_text  \n",
       "138  Nutritional influences on early white matter d...  \n",
       "198  Quantifying inter-subject agreement in brain-i...  "
      ]
     },
     "execution_count": 249,
     "metadata": {},
     "output_type": "execute_result"
    }
   ],
   "source": [
    "labeled_df.head(2)"
   ]
  },
  {
   "cell_type": "code",
   "execution_count": 254,
   "metadata": {
    "collapsed": true
   },
   "outputs": [],
   "source": [
    "train_df = labeled_df['all_text']\n",
    "labels = labeled_df['target']\n",
    "# cleaned_train = train_df.apply(lambda x : clean_text(x, stop_words, SnowballStemmer))\n",
    "cleaned_train = train_df"
   ]
  },
  {
   "cell_type": "code",
   "execution_count": 260,
   "metadata": {
    "collapsed": false
   },
   "outputs": [
    {
     "name": "stdout",
     "output_type": "stream",
     "text": [
      "0.933333333333\n"
     ]
    }
   ],
   "source": [
    "mnbc = MultinomialNB()\n",
    "X_train, X_test, y_train, y_test =train_test_split(cleaned_train, labels, test_size = 0.30)\n",
    "tfidf = TfidfVectorizer(stop_words='english')\n",
    "tfidf.fit(X_train)\n",
    "tfs = tfidf.transform(X_train)\n",
    "mnbc.fit(tfs, y_train)\n",
    "test_tfs  = tfidf.transform(X_test)\n",
    "print(skmet.accuracy_score(mnbc.predict(test_tfs), y_test))"
   ]
  },
  {
   "cell_type": "code",
   "execution_count": null,
   "metadata": {
    "collapsed": true
   },
   "outputs": [],
   "source": []
  },
  {
   "cell_type": "code",
   "execution_count": null,
   "metadata": {
    "collapsed": true
   },
   "outputs": [],
   "source": []
  },
  {
   "cell_type": "markdown",
   "metadata": {
    "heading_collapsed": true
   },
   "source": [
    "# End "
   ]
  },
  {
   "cell_type": "code",
   "execution_count": null,
   "metadata": {
    "collapsed": true,
    "hidden": true
   },
   "outputs": [],
   "source": [
    "# corpus_sample_raw_df.replace(['',[]], np.NaN)"
   ]
  }
 ],
 "metadata": {
  "kernelspec": {
   "display_name": "Python 3",
   "language": "python",
   "name": "python3"
  },
  "language_info": {
   "codemirror_mode": {
    "name": "ipython",
    "version": 3
   },
   "file_extension": ".py",
   "mimetype": "text/x-python",
   "name": "python",
   "nbconvert_exporter": "python",
   "pygments_lexer": "ipython3",
   "version": "3.5.0"
  }
 },
 "nbformat": 4,
 "nbformat_minor": 0
}
